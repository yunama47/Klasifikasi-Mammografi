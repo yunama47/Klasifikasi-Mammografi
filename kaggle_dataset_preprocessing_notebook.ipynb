{
 "cells": [
  {
   "cell_type": "code",
   "execution_count": 1,
   "id": "4aa138b5",
   "metadata": {
    "execution": {
     "iopub.execute_input": "2024-07-10T08:25:06.661142Z",
     "iopub.status.busy": "2024-07-10T08:25:06.660922Z",
     "iopub.status.idle": "2024-07-10T08:25:07.858076Z",
     "shell.execute_reply": "2024-07-10T08:25:07.857327Z"
    },
    "papermill": {
     "duration": 1.204454,
     "end_time": "2024-07-10T08:25:07.859881",
     "exception": false,
     "start_time": "2024-07-10T08:25:06.655427",
     "status": "completed"
    },
    "tags": []
   },
   "outputs": [
    {
     "name": "stdout",
     "output_type": "stream",
     "text": [
      "seed everything using 27182\n"
     ]
    },
    {
     "data": {
      "text/html": [
       "<div>\n",
       "<style scoped>\n",
       "    .dataframe tbody tr th:only-of-type {\n",
       "        vertical-align: middle;\n",
       "    }\n",
       "\n",
       "    .dataframe tbody tr th {\n",
       "        vertical-align: top;\n",
       "    }\n",
       "\n",
       "    .dataframe thead th {\n",
       "        text-align: right;\n",
       "    }\n",
       "</style>\n",
       "<table border=\"1\" class=\"dataframe\">\n",
       "  <thead>\n",
       "    <tr style=\"text-align: right;\">\n",
       "      <th></th>\n",
       "      <th>pair_id</th>\n",
       "      <th>image_path_CC</th>\n",
       "      <th>zip_file_CC</th>\n",
       "      <th>BI_RADS_CC</th>\n",
       "      <th>image_path_MLO</th>\n",
       "      <th>zip_file_MLO</th>\n",
       "      <th>BI_RADS_MLO</th>\n",
       "      <th>CC_MLO_Same_BIRADS</th>\n",
       "      <th>BI_RADS_MAX</th>\n",
       "    </tr>\n",
       "  </thead>\n",
       "  <tbody>\n",
       "    <tr>\n",
       "      <th>0</th>\n",
       "      <td>0025a5dc99fd5c742026f0b2b030d3e9_L</td>\n",
       "      <td>vindr-mammo/451562831387e2822923204cf8f0873e.d...</td>\n",
       "      <td>/kaggle/input/dicommammography/VinDr-Mammo_Bal...</td>\n",
       "      <td>1.0</td>\n",
       "      <td>vindr-mammo/2ddfad7286c2b016931ceccd1e2c7bbc.d...</td>\n",
       "      <td>/kaggle/input/dicommammography/VinDr-Mammo_Bal...</td>\n",
       "      <td>1.0</td>\n",
       "      <td>True</td>\n",
       "      <td>1.0</td>\n",
       "    </tr>\n",
       "    <tr>\n",
       "      <th>1</th>\n",
       "      <td>0025a5dc99fd5c742026f0b2b030d3e9_R</td>\n",
       "      <td>vindr-mammo/fcf12c2803ba8dc564bf1287c0c97d9a.d...</td>\n",
       "      <td>/kaggle/input/dicommammography/VinDr-Mammo_Bal...</td>\n",
       "      <td>1.0</td>\n",
       "      <td>vindr-mammo/47c8858666bcce92bcbd57974b5ce522.d...</td>\n",
       "      <td>/kaggle/input/dicommammography/VinDr-Mammo_Bal...</td>\n",
       "      <td>1.0</td>\n",
       "      <td>True</td>\n",
       "      <td>1.0</td>\n",
       "    </tr>\n",
       "    <tr>\n",
       "      <th>2</th>\n",
       "      <td>0028fb2c7f0b3a5cb9a80cb0e1cdbb91_L</td>\n",
       "      <td>vindr-mammo/3704f91985dcbc69f6ac2803523d1ecb.d...</td>\n",
       "      <td>/kaggle/input/dicommammography/VinDr-Mammo_Bal...</td>\n",
       "      <td>2.0</td>\n",
       "      <td>vindr-mammo/7fc1f1bb8bb1a7efaf7104e49c4d8b86.d...</td>\n",
       "      <td>/kaggle/input/dicommammography/VinDr-Mammo_Bal...</td>\n",
       "      <td>2.0</td>\n",
       "      <td>True</td>\n",
       "      <td>2.0</td>\n",
       "    </tr>\n",
       "    <tr>\n",
       "      <th>3</th>\n",
       "      <td>0028fb2c7f0b3a5cb9a80cb0e1cdbb91_R</td>\n",
       "      <td>vindr-mammo/c4ce68631bf70949570ded31a3c69e60.d...</td>\n",
       "      <td>/kaggle/input/dicommammography/VinDr-Mammo_Bal...</td>\n",
       "      <td>2.0</td>\n",
       "      <td>vindr-mammo/16e58fc1d65fa7587247e6224ee96527.d...</td>\n",
       "      <td>/kaggle/input/dicommammography/VinDr-Mammo_Bal...</td>\n",
       "      <td>2.0</td>\n",
       "      <td>True</td>\n",
       "      <td>2.0</td>\n",
       "    </tr>\n",
       "    <tr>\n",
       "      <th>4</th>\n",
       "      <td>0034765af074f93ed33d5e8399355caf_L</td>\n",
       "      <td>vindr-mammo/68f09c18925a66ef2840d4a62f237b31.d...</td>\n",
       "      <td>/kaggle/input/dicommammography/VinDr-Mammo_Bal...</td>\n",
       "      <td>2.0</td>\n",
       "      <td>vindr-mammo/b664cf1e7c968896144a3a2005cd3eb4.d...</td>\n",
       "      <td>/kaggle/input/dicommammography/VinDr-Mammo_Bal...</td>\n",
       "      <td>2.0</td>\n",
       "      <td>True</td>\n",
       "      <td>2.0</td>\n",
       "    </tr>\n",
       "    <tr>\n",
       "      <th>...</th>\n",
       "      <td>...</td>\n",
       "      <td>...</td>\n",
       "      <td>...</td>\n",
       "      <td>...</td>\n",
       "      <td>...</td>\n",
       "      <td>...</td>\n",
       "      <td>...</td>\n",
       "      <td>...</td>\n",
       "      <td>...</td>\n",
       "    </tr>\n",
       "    <tr>\n",
       "      <th>2688</th>\n",
       "      <td>P_02460_RIGHT</td>\n",
       "      <td>Calc-Training_full_mammogram_images_1-doiJNLP-...</td>\n",
       "      <td>/kaggle/input/dicommammography/CBIS-DDSM_Calc_...</td>\n",
       "      <td>5.0</td>\n",
       "      <td>Calc-Training_full_mammogram_images_1-doiJNLP-...</td>\n",
       "      <td>/kaggle/input/dicommammography/CBIS-DDSM_Calc_...</td>\n",
       "      <td>5.0</td>\n",
       "      <td>True</td>\n",
       "      <td>5.0</td>\n",
       "    </tr>\n",
       "    <tr>\n",
       "      <th>2689</th>\n",
       "      <td>P_02508_LEFT</td>\n",
       "      <td>Calc-Training_full_mammogram_images_1-doiJNLP-...</td>\n",
       "      <td>/kaggle/input/dicommammography/CBIS-DDSM_Calc_...</td>\n",
       "      <td>4.0</td>\n",
       "      <td>Calc-Training_full_mammogram_images_1-doiJNLP-...</td>\n",
       "      <td>/kaggle/input/dicommammography/CBIS-DDSM_Calc_...</td>\n",
       "      <td>4.0</td>\n",
       "      <td>True</td>\n",
       "      <td>4.0</td>\n",
       "    </tr>\n",
       "    <tr>\n",
       "      <th>2690</th>\n",
       "      <td>P_02518_RIGHT</td>\n",
       "      <td>Calc-Training_full_mammogram_images_1-doiJNLP-...</td>\n",
       "      <td>/kaggle/input/dicommammography/CBIS-DDSM_Calc_...</td>\n",
       "      <td>5.0</td>\n",
       "      <td>Calc-Training_full_mammogram_images_1-doiJNLP-...</td>\n",
       "      <td>/kaggle/input/dicommammography/CBIS-DDSM_Calc_...</td>\n",
       "      <td>5.0</td>\n",
       "      <td>True</td>\n",
       "      <td>5.0</td>\n",
       "    </tr>\n",
       "    <tr>\n",
       "      <th>2691</th>\n",
       "      <td>P_02559_RIGHT</td>\n",
       "      <td>Calc-Training_full_mammogram_images_1-doiJNLP-...</td>\n",
       "      <td>/kaggle/input/dicommammography/CBIS-DDSM_Calc_...</td>\n",
       "      <td>3.0</td>\n",
       "      <td>Calc-Training_full_mammogram_images_1-doiJNLP-...</td>\n",
       "      <td>/kaggle/input/dicommammography/CBIS-DDSM_Calc_...</td>\n",
       "      <td>3.0</td>\n",
       "      <td>True</td>\n",
       "      <td>3.0</td>\n",
       "    </tr>\n",
       "    <tr>\n",
       "      <th>2692</th>\n",
       "      <td>P_02566_RIGHT</td>\n",
       "      <td>Calc-Training_full_mammogram_images_1-doiJNLP-...</td>\n",
       "      <td>/kaggle/input/dicommammography/CBIS-DDSM_Calc_...</td>\n",
       "      <td>5.0</td>\n",
       "      <td>Calc-Training_full_mammogram_images_1-doiJNLP-...</td>\n",
       "      <td>/kaggle/input/dicommammography/CBIS-DDSM_Calc_...</td>\n",
       "      <td>5.0</td>\n",
       "      <td>True</td>\n",
       "      <td>5.0</td>\n",
       "    </tr>\n",
       "  </tbody>\n",
       "</table>\n",
       "<p>2693 rows × 9 columns</p>\n",
       "</div>"
      ],
      "text/plain": [
       "                                 pair_id  \\\n",
       "0     0025a5dc99fd5c742026f0b2b030d3e9_L   \n",
       "1     0025a5dc99fd5c742026f0b2b030d3e9_R   \n",
       "2     0028fb2c7f0b3a5cb9a80cb0e1cdbb91_L   \n",
       "3     0028fb2c7f0b3a5cb9a80cb0e1cdbb91_R   \n",
       "4     0034765af074f93ed33d5e8399355caf_L   \n",
       "...                                  ...   \n",
       "2688                       P_02460_RIGHT   \n",
       "2689                        P_02508_LEFT   \n",
       "2690                       P_02518_RIGHT   \n",
       "2691                       P_02559_RIGHT   \n",
       "2692                       P_02566_RIGHT   \n",
       "\n",
       "                                          image_path_CC  \\\n",
       "0     vindr-mammo/451562831387e2822923204cf8f0873e.d...   \n",
       "1     vindr-mammo/fcf12c2803ba8dc564bf1287c0c97d9a.d...   \n",
       "2     vindr-mammo/3704f91985dcbc69f6ac2803523d1ecb.d...   \n",
       "3     vindr-mammo/c4ce68631bf70949570ded31a3c69e60.d...   \n",
       "4     vindr-mammo/68f09c18925a66ef2840d4a62f237b31.d...   \n",
       "...                                                 ...   \n",
       "2688  Calc-Training_full_mammogram_images_1-doiJNLP-...   \n",
       "2689  Calc-Training_full_mammogram_images_1-doiJNLP-...   \n",
       "2690  Calc-Training_full_mammogram_images_1-doiJNLP-...   \n",
       "2691  Calc-Training_full_mammogram_images_1-doiJNLP-...   \n",
       "2692  Calc-Training_full_mammogram_images_1-doiJNLP-...   \n",
       "\n",
       "                                            zip_file_CC  BI_RADS_CC  \\\n",
       "0     /kaggle/input/dicommammography/VinDr-Mammo_Bal...         1.0   \n",
       "1     /kaggle/input/dicommammography/VinDr-Mammo_Bal...         1.0   \n",
       "2     /kaggle/input/dicommammography/VinDr-Mammo_Bal...         2.0   \n",
       "3     /kaggle/input/dicommammography/VinDr-Mammo_Bal...         2.0   \n",
       "4     /kaggle/input/dicommammography/VinDr-Mammo_Bal...         2.0   \n",
       "...                                                 ...         ...   \n",
       "2688  /kaggle/input/dicommammography/CBIS-DDSM_Calc_...         5.0   \n",
       "2689  /kaggle/input/dicommammography/CBIS-DDSM_Calc_...         4.0   \n",
       "2690  /kaggle/input/dicommammography/CBIS-DDSM_Calc_...         5.0   \n",
       "2691  /kaggle/input/dicommammography/CBIS-DDSM_Calc_...         3.0   \n",
       "2692  /kaggle/input/dicommammography/CBIS-DDSM_Calc_...         5.0   \n",
       "\n",
       "                                         image_path_MLO  \\\n",
       "0     vindr-mammo/2ddfad7286c2b016931ceccd1e2c7bbc.d...   \n",
       "1     vindr-mammo/47c8858666bcce92bcbd57974b5ce522.d...   \n",
       "2     vindr-mammo/7fc1f1bb8bb1a7efaf7104e49c4d8b86.d...   \n",
       "3     vindr-mammo/16e58fc1d65fa7587247e6224ee96527.d...   \n",
       "4     vindr-mammo/b664cf1e7c968896144a3a2005cd3eb4.d...   \n",
       "...                                                 ...   \n",
       "2688  Calc-Training_full_mammogram_images_1-doiJNLP-...   \n",
       "2689  Calc-Training_full_mammogram_images_1-doiJNLP-...   \n",
       "2690  Calc-Training_full_mammogram_images_1-doiJNLP-...   \n",
       "2691  Calc-Training_full_mammogram_images_1-doiJNLP-...   \n",
       "2692  Calc-Training_full_mammogram_images_1-doiJNLP-...   \n",
       "\n",
       "                                           zip_file_MLO  BI_RADS_MLO  \\\n",
       "0     /kaggle/input/dicommammography/VinDr-Mammo_Bal...          1.0   \n",
       "1     /kaggle/input/dicommammography/VinDr-Mammo_Bal...          1.0   \n",
       "2     /kaggle/input/dicommammography/VinDr-Mammo_Bal...          2.0   \n",
       "3     /kaggle/input/dicommammography/VinDr-Mammo_Bal...          2.0   \n",
       "4     /kaggle/input/dicommammography/VinDr-Mammo_Bal...          2.0   \n",
       "...                                                 ...          ...   \n",
       "2688  /kaggle/input/dicommammography/CBIS-DDSM_Calc_...          5.0   \n",
       "2689  /kaggle/input/dicommammography/CBIS-DDSM_Calc_...          4.0   \n",
       "2690  /kaggle/input/dicommammography/CBIS-DDSM_Calc_...          5.0   \n",
       "2691  /kaggle/input/dicommammography/CBIS-DDSM_Calc_...          3.0   \n",
       "2692  /kaggle/input/dicommammography/CBIS-DDSM_Calc_...          5.0   \n",
       "\n",
       "      CC_MLO_Same_BIRADS  BI_RADS_MAX  \n",
       "0                   True          1.0  \n",
       "1                   True          1.0  \n",
       "2                   True          2.0  \n",
       "3                   True          2.0  \n",
       "4                   True          2.0  \n",
       "...                  ...          ...  \n",
       "2688                True          5.0  \n",
       "2689                True          4.0  \n",
       "2690                True          5.0  \n",
       "2691                True          3.0  \n",
       "2692                True          5.0  \n",
       "\n",
       "[2693 rows x 9 columns]"
      ]
     },
     "execution_count": 1,
     "metadata": {},
     "output_type": "execute_result"
    }
   ],
   "source": [
    "DATASET_DIR = \"/kaggle/input/dicommammography\"\n",
    "!rm -rf ./* # clear working dir\n",
    "VINDR_SELECTED_SUBSET_CSV = DATASET_DIR+'/vindr-mammo_selected_images.csv'\n",
    "VINDR_BIRADS_1_2_CSV = DATASET_DIR+'/vindr-mammo_birads-1_2.csv'\n",
    "VINDR_ALL_CSV = 'https://drive.usercontent.google.com/u/1/uc?id=12dZ1KqdOs79jB17uFAfvrb-J4EatpQPr&export=download'\n",
    "VINDR_MULTI_VIEW_CSV = DATASET_DIR+'/vindr_cc_mlo_data.csv'\n",
    "CBIS_DDSM_ALL_CSV = DATASET_DIR+'/cbis_ddsm_all.csv'\n",
    "CBIS_DDSM_MULTI_VIEW_CSV = DATASET_DIR+'/cbis_ddsm_dual_view_all.csv'\n",
    "\n",
    "\n",
    "VINDR_ZIP_FINDINGS_ONLY = DATASET_DIR+'/vindr-mammo_findings_only'\n",
    "VINDR_ZIP_SELECTED_SUBSET = DATASET_DIR+'/VinDr-Mammo_Balanced_Subset'\n",
    "VINDR_ZIP_BIRADS_1_2 = DATASET_DIR+'/VinDr-Mammo_BIRADS_1&2_Subset'\n",
    "CBIS_ZIP_CALC_TRAIN = DATASET_DIR+'/CBIS-DDSM_Calc_Training'\n",
    "CBIS_ZIP_CALC_TEST = DATASET_DIR+'/CBIS-DDSM_Calc_Test'\n",
    "CBIS_ZIP_MASS_TRAIN = DATASET_DIR+'/CBIS-DDSM_Mass_Training'\n",
    "CBIS_ZIP_MASS_TEST = DATASET_DIR+'/CBIS-DDSM_Mass_Test'\n",
    "\n",
    "cbis_zip_list = [CBIS_ZIP_MASS_TRAIN, CBIS_ZIP_CALC_TRAIN, CBIS_ZIP_MASS_TEST, CBIS_ZIP_CALC_TEST]\n",
    "label_index = {\"BI-RADS 0\": 0.0,\"BI-RADS 1\":1.0,\"BI-RADS 2\":2.0,\"BI-RADS 3\":3.0,\"BI-RADS 4\":4.0,\"BI-RADS 5\":5.0,}\n",
    "index_label = {val:key for key,val in label_index.items()}\n",
    "\n",
    "import os\n",
    "import random\n",
    "import pandas as pd\n",
    "import numpy as np\n",
    "# import tensorflow as tf\n",
    "\n",
    "def seed_everything(seed):\n",
    "    print(\"seed everything using\", seed)\n",
    "    random.seed(seed)\n",
    "    os.environ['PYTHONHASHSEED'] = str(seed)\n",
    "    np.random.seed(seed)\n",
    "#     tf.random.set_seed(seed)\n",
    "\n",
    "seed_everything(int(1e4*np.e))\n",
    "\n",
    "columns = ['pair_id', 'image_path_CC', 'zip_file_CC', 'BI_RADS_CC',\n",
    "                      'image_path_MLO',  'zip_file_MLO', 'BI_RADS_MLO',\n",
    "           'CC_MLO_Same_BIRADS']\n",
    "vindr_multi_view = pd.read_csv(VINDR_MULTI_VIEW_CSV)\n",
    "vindr_multi_view['pair_id'] = vindr_multi_view.apply(lambda row: f\"{row['study_id']}_{row['laterality']}\" , axis=1)\n",
    "vindr_multi_view = vindr_multi_view.loc[:,columns]\n",
    "cbis_multi_view = pd.read_csv(CBIS_DDSM_MULTI_VIEW_CSV)\\\n",
    "                  .rename(columns={\n",
    "                      'subset_zip_CC':'zip_file_CC',\n",
    "                      'subset_zip_MLO':'zip_file_MLO',\n",
    "                      'assessment_CC':'BI_RADS_CC',\n",
    "                      'assessment_MLO':'BI_RADS_MLO'\n",
    "                      })\n",
    "cbis_multi_view = cbis_multi_view.loc[:,columns]\n",
    "\n",
    "all_multi_view_df = pd.concat([vindr_multi_view, cbis_multi_view]).reset_index(drop=True)\n",
    "\n",
    "def normalize_birads(row):\n",
    "    if row['BI_RADS_CC'] in label_index and row['BI_RADS_MLO'] in label_index:\n",
    "        row['BI_RADS_CC'] = label_index[row['BI_RADS_CC']]\n",
    "        row['BI_RADS_MLO'] = label_index[row['BI_RADS_MLO']]\n",
    "        return row\n",
    "    else:\n",
    "        row['BI_RADS_CC'] = float(row['BI_RADS_CC'])\n",
    "        row['BI_RADS_MLO'] = float(row['BI_RADS_MLO'])\n",
    "        return row\n",
    "    \n",
    "def kaggle_zipfile_path(row):\n",
    "    for view in ['CC', 'MLO']:\n",
    "        orig_zip_file = row[f'zip_file_{view}']\n",
    "        if not isinstance(orig_zip_file, str):\n",
    "            continue\n",
    "        kaggle_filename = orig_zip_file.split('/')[-1].replace('.zip','_zip').replace('&','')\n",
    "        kaggle_zip_file = f\"{DATASET_DIR}/{kaggle_filename}\"\n",
    "        row[f'zip_file_{view}'] = kaggle_zip_file\n",
    "    return row\n",
    "\n",
    "all_multi_view_df = all_multi_view_df.apply(normalize_birads, axis=1)\n",
    "all_multi_view_df = all_multi_view_df.apply(kaggle_zipfile_path, axis=1)\n",
    "all_multi_view_df = all_multi_view_df.dropna().reset_index(drop=True)\n",
    "all_multi_view_df['BI_RADS_MAX'] = all_multi_view_df.apply(lambda row: max(row['BI_RADS_CC'], row['BI_RADS_MLO']), axis=1)\n",
    "all_multi_view_df"
   ]
  },
  {
   "cell_type": "code",
   "execution_count": 2,
   "id": "1ebae5d2",
   "metadata": {
    "_kg_hide-input": true,
    "_kg_hide-output": true,
    "execution": {
     "iopub.execute_input": "2024-07-10T08:25:07.870550Z",
     "iopub.status.busy": "2024-07-10T08:25:07.870312Z",
     "iopub.status.idle": "2024-07-10T08:25:12.833673Z",
     "shell.execute_reply": "2024-07-10T08:25:12.832831Z"
    },
    "papermill": {
     "duration": 4.971726,
     "end_time": "2024-07-10T08:25:12.835676",
     "exception": false,
     "start_time": "2024-07-10T08:25:07.863950",
     "status": "completed"
    },
    "tags": []
   },
   "outputs": [
    {
     "name": "stdout",
     "output_type": "stream",
     "text": [
      "Collecting pydicom\r\n"
     ]
    },
    {
     "name": "stdout",
     "output_type": "stream",
     "text": [
      "  Downloading pydicom-2.4.4-py3-none-any.whl (1.8 MB)\r\n",
      "\u001b[?25l     \u001b[90m━━━━━━━━━━━━━━━━━━━━━━━━━━━━━━━━━━━━━━━━\u001b[0m \u001b[32m0.0/1.8 MB\u001b[0m \u001b[31m?\u001b[0m eta \u001b[36m-:--:--\u001b[0m"
     ]
    },
    {
     "name": "stdout",
     "output_type": "stream",
     "text": [
      "\r",
      "\u001b[2K     \u001b[91m╸\u001b[0m\u001b[90m━━━━━━━━━━━━━━━━━━━━━━━━━━━━━━━━━━━━━━━\u001b[0m \u001b[32m0.0/1.8 MB\u001b[0m \u001b[31m1.3 MB/s\u001b[0m eta \u001b[36m0:00:02\u001b[0m\r",
      "\u001b[2K     \u001b[91m━━\u001b[0m\u001b[90m╺\u001b[0m\u001b[90m━━━━━━━━━━━━━━━━━━━━━━━━━━━━━━━━━━━━━\u001b[0m \u001b[32m0.1/1.8 MB\u001b[0m \u001b[31m1.4 MB/s\u001b[0m eta \u001b[36m0:00:02\u001b[0m"
     ]
    },
    {
     "name": "stdout",
     "output_type": "stream",
     "text": [
      "\r",
      "\u001b[2K     \u001b[91m━━━━━\u001b[0m\u001b[90m╺\u001b[0m\u001b[90m━━━━━━━━━━━━━━━━━━━━━━━━━━━━━━━━━━\u001b[0m \u001b[32m0.2/1.8 MB\u001b[0m \u001b[31m2.3 MB/s\u001b[0m eta \u001b[36m0:00:01\u001b[0m"
     ]
    },
    {
     "name": "stdout",
     "output_type": "stream",
     "text": [
      "\r",
      "\u001b[2K     \u001b[91m━━━━━━━━━━\u001b[0m\u001b[91m╸\u001b[0m\u001b[90m━━━━━━━━━━━━━━━━━━━━━━━━━━━━━\u001b[0m \u001b[32m0.5/1.8 MB\u001b[0m \u001b[31m3.4 MB/s\u001b[0m eta \u001b[36m0:00:01\u001b[0m\r",
      "\u001b[2K     \u001b[91m━━━━━━━━━━━━━━━━━━━━\u001b[0m\u001b[91m╸\u001b[0m\u001b[90m━━━━━━━━━━━━━━━━━━━\u001b[0m \u001b[32m0.9/1.8 MB\u001b[0m \u001b[31m5.2 MB/s\u001b[0m eta \u001b[36m0:00:01\u001b[0m"
     ]
    },
    {
     "name": "stdout",
     "output_type": "stream",
     "text": [
      "\r",
      "\u001b[2K     \u001b[91m━━━━━━━━━━━━━━━━━━━━━━━━━━━━━━━━━━━━\u001b[0m\u001b[91m╸\u001b[0m\u001b[90m━━━\u001b[0m \u001b[32m1.6/1.8 MB\u001b[0m \u001b[31m7.8 MB/s\u001b[0m eta \u001b[36m0:00:01\u001b[0m"
     ]
    },
    {
     "name": "stdout",
     "output_type": "stream",
     "text": [
      "\r",
      "\u001b[2K     \u001b[90m━━━━━━━━━━━━━━━━━━━━━━━━━━━━━━━━━━━━━━━━\u001b[0m \u001b[32m1.8/1.8 MB\u001b[0m \u001b[31m7.6 MB/s\u001b[0m eta \u001b[36m0:00:00\u001b[0m\r\n",
      "\u001b[?25h"
     ]
    },
    {
     "name": "stdout",
     "output_type": "stream",
     "text": [
      "Installing collected packages: pydicom\r\n"
     ]
    },
    {
     "name": "stdout",
     "output_type": "stream",
     "text": [
      "Successfully installed pydicom-2.4.4\r\n",
      "\u001b[33mWARNING: Running pip as the 'root' user can result in broken permissions and conflicting behaviour with the system package manager. It is recommended to use a virtual environment instead: https://pip.pypa.io/warnings/venv\u001b[0m\u001b[33m\r\n",
      "\u001b[0m"
     ]
    },
    {
     "name": "stdout",
     "output_type": "stream",
     "text": [
      "\r\n",
      "\u001b[1m[\u001b[0m\u001b[34;49mnotice\u001b[0m\u001b[1;39;49m]\u001b[0m\u001b[39;49m A new release of pip is available: \u001b[0m\u001b[31;49m23.0.1\u001b[0m\u001b[39;49m -> \u001b[0m\u001b[32;49m24.1.2\u001b[0m\r\n",
      "\u001b[1m[\u001b[0m\u001b[34;49mnotice\u001b[0m\u001b[1;39;49m]\u001b[0m\u001b[39;49m To update, run: \u001b[0m\u001b[32;49mpip install --upgrade pip\u001b[0m\r\n"
     ]
    }
   ],
   "source": [
    "try:\n",
    "    import pydicom\n",
    "except ModuleNotFoundError:\n",
    "    !pip install pydicom"
   ]
  },
  {
   "cell_type": "markdown",
   "id": "2d1e2692",
   "metadata": {
    "papermill": {
     "duration": 0.004347,
     "end_time": "2024-07-10T08:25:12.844986",
     "exception": false,
     "start_time": "2024-07-10T08:25:12.840639",
     "status": "completed"
    },
    "tags": []
   },
   "source": [
    "## Dataset Splitting"
   ]
  },
  {
   "cell_type": "code",
   "execution_count": 3,
   "id": "3d733e40",
   "metadata": {
    "execution": {
     "iopub.execute_input": "2024-07-10T08:25:12.855475Z",
     "iopub.status.busy": "2024-07-10T08:25:12.855183Z",
     "iopub.status.idle": "2024-07-10T08:25:12.863591Z",
     "shell.execute_reply": "2024-07-10T08:25:12.862949Z"
    },
    "papermill": {
     "duration": 0.015634,
     "end_time": "2024-07-10T08:25:12.865347",
     "exception": false,
     "start_time": "2024-07-10T08:25:12.849713",
     "status": "completed"
    },
    "tags": []
   },
   "outputs": [
    {
     "name": "stdout",
     "output_type": "stream",
     "text": [
      "2693\n",
      "BI-RADS 0 : None\n",
      "BI-RADS 1 : 464\n",
      "BI-RADS 2 : 416\n",
      "BI-RADS 3 : 500\n",
      "BI-RADS 4 : 974\n",
      "BI-RADS 5 : 339\n"
     ]
    }
   ],
   "source": [
    "ds = all_multi_view_df.copy()\n",
    "print(len(ds))\n",
    "birads_counts = ds.BI_RADS_MAX.value_counts()\n",
    "print('\\n'.join([f\"{label} : {birads_counts.get(i)}\" for label, i in label_index.items()]))"
   ]
  },
  {
   "cell_type": "code",
   "execution_count": 4,
   "id": "a71f2032",
   "metadata": {
    "execution": {
     "iopub.execute_input": "2024-07-10T08:25:12.875872Z",
     "iopub.status.busy": "2024-07-10T08:25:12.875612Z",
     "iopub.status.idle": "2024-07-10T08:25:12.882497Z",
     "shell.execute_reply": "2024-07-10T08:25:12.881889Z"
    },
    "papermill": {
     "duration": 0.013939,
     "end_time": "2024-07-10T08:25:12.884095",
     "exception": false,
     "start_time": "2024-07-10T08:25:12.870156",
     "status": "completed"
    },
    "tags": []
   },
   "outputs": [
    {
     "name": "stdout",
     "output_type": "stream",
     "text": [
      "2689\n",
      "BI-RADS 0 : None\n",
      "BI-RADS 1 : 464\n",
      "BI-RADS 2 : 415\n",
      "BI-RADS 3 : 500\n",
      "BI-RADS 4 : 971\n",
      "BI-RADS 5 : 339\n"
     ]
    }
   ],
   "source": [
    "index = [106, 107, 1245, 1420] # index lainya yang udah fix : 1730, 1844, 1909, 1947, 2068, 2086, 2149, 2316, 2347, 2367, 2401, 2408, 2418, 2419, 2453, 2478, 2590, 2653]\n",
    "ds = ds.drop(index).reset_index(drop=True)\n",
    "birads_counts = ds.BI_RADS_MAX.value_counts()\n",
    "print(len(ds))\n",
    "print('\\n'.join([f\"{label} : {birads_counts.get(i)}\" for label, i in label_index.items()]))"
   ]
  },
  {
   "cell_type": "code",
   "execution_count": 5,
   "id": "80d811a8",
   "metadata": {
    "execution": {
     "iopub.execute_input": "2024-07-10T08:25:12.894241Z",
     "iopub.status.busy": "2024-07-10T08:25:12.894012Z",
     "iopub.status.idle": "2024-07-10T08:25:12.903610Z",
     "shell.execute_reply": "2024-07-10T08:25:12.903059Z"
    },
    "papermill": {
     "duration": 0.016391,
     "end_time": "2024-07-10T08:25:12.905207",
     "exception": false,
     "start_time": "2024-07-10T08:25:12.888816",
     "status": "completed"
    },
    "tags": []
   },
   "outputs": [],
   "source": [
    "def get_kfold_df(k, kfold_ds=ds.copy(), balanced=True):\n",
    "    kfold_ds[f\"k{k}_split\"] = \"fold-sisa\"\n",
    "    def train_val_split(_df, k):\n",
    "        split = 1 / k\n",
    "        split = round(len(_df)*split) # splitting to k-fold / (100/k)% data each fold\n",
    "        start_index = 0\n",
    "        indxs = list(_df.index)\n",
    "        for i in range(k):\n",
    "            indx = indxs[start_index:(i+1)*split]\n",
    "            _df.loc[indx, f\"k{k}_split\"] = f'fold-{i}'\n",
    "            start_index+=split\n",
    "        return _df\n",
    "    if balanced:\n",
    "        get_n_sample = lambda _ : birads_counts.min()\n",
    "        lowest_count_birads = birads_counts.argmin() + 1.0\n",
    "        low_birads = kfold_ds.loc[ds.BI_RADS_MAX == lowest_count_birads]\n",
    "        kfold_ds.loc[kfold_ds.BI_RADS_MAX == lowest_count_birads] = train_val_split(low_birads, k)\n",
    "    else:\n",
    "        lowest_count_birads = -1\n",
    "        get_n_sample = lambda df: len(df)\n",
    "    \n",
    "    for key in index_label:\n",
    "        if key == lowest_count_birads or key == 0.0:\n",
    "            continue\n",
    "        biradn = kfold_ds.loc[kfold_ds.BI_RADS_MAX == key]\n",
    "        biradn = biradn.sample(get_n_sample(biradn))\n",
    "        biradn = train_val_split(biradn, k)\n",
    "        kfold_ds.iloc[biradn.index,:] = biradn\n",
    "    return kfold_ds\n",
    "\n",
    "def print_kfold_birads_counts(k, balanced=True):\n",
    "    kfold_ds = get_kfold_df(k, balanced=balanced)\n",
    "    print(kfold_ds[f\"k{k}_split\"].value_counts())\n",
    "    for i in range(k):\n",
    "        fold_birads_counts = kfold_ds[kfold_ds[f\"k{k}_split\"] == f\"fold-{i}\"].BI_RADS_MAX.value_counts()\n",
    "        print(f\"fold-{i} birads\".center(30, \"-\"))\n",
    "        print('\\n'.join([f\"{label} : {fold_birads_counts.get(i)}\" for label, i in label_index.items()]))\n",
    "    fold_birads_counts = kfold_ds[kfold_ds[f\"k{k}_split\"] == \"fold-sisa\"].BI_RADS_MAX.value_counts()\n",
    "    print(f\"fold-sisa birads\".center(30, \"-\"))\n",
    "    print('\\n'.join([f\"{label} : {fold_birads_counts.get(i)}\" for label, i in label_index.items()]))"
   ]
  },
  {
   "cell_type": "code",
   "execution_count": 6,
   "id": "78e203bd",
   "metadata": {
    "execution": {
     "iopub.execute_input": "2024-07-10T08:25:12.915577Z",
     "iopub.status.busy": "2024-07-10T08:25:12.915357Z",
     "iopub.status.idle": "2024-07-10T08:25:12.948548Z",
     "shell.execute_reply": "2024-07-10T08:25:12.947845Z"
    },
    "papermill": {
     "duration": 0.040254,
     "end_time": "2024-07-10T08:25:12.950243",
     "exception": false,
     "start_time": "2024-07-10T08:25:12.909989",
     "status": "completed"
    },
    "tags": []
   },
   "outputs": [
    {
     "name": "stdout",
     "output_type": "stream",
     "text": [
      "k3_split\n",
      "fold-sisa    994\n",
      "fold-1       565\n",
      "fold-0       565\n",
      "fold-2       565\n",
      "Name: count, dtype: int64\n",
      "--------fold-0 birads---------\n",
      "BI-RADS 0 : None\n",
      "BI-RADS 1 : 113\n",
      "BI-RADS 2 : 113\n",
      "BI-RADS 3 : 113\n",
      "BI-RADS 4 : 113\n",
      "BI-RADS 5 : 113\n",
      "--------fold-1 birads---------\n",
      "BI-RADS 0 : None\n",
      "BI-RADS 1 : 113\n",
      "BI-RADS 2 : 113\n",
      "BI-RADS 3 : 113\n",
      "BI-RADS 4 : 113\n",
      "BI-RADS 5 : 113\n",
      "--------fold-2 birads---------\n",
      "BI-RADS 0 : None\n",
      "BI-RADS 1 : 113\n",
      "BI-RADS 2 : 113\n",
      "BI-RADS 3 : 113\n",
      "BI-RADS 4 : 113\n",
      "BI-RADS 5 : 113\n",
      "-------fold-sisa birads-------\n",
      "BI-RADS 0 : None\n",
      "BI-RADS 1 : 125\n",
      "BI-RADS 2 : 76\n",
      "BI-RADS 3 : 161\n",
      "BI-RADS 4 : 632\n",
      "BI-RADS 5 : None\n"
     ]
    }
   ],
   "source": [
    "print_kfold_birads_counts(k=3)"
   ]
  },
  {
   "cell_type": "code",
   "execution_count": 7,
   "id": "fb136dd4",
   "metadata": {
    "execution": {
     "iopub.execute_input": "2024-07-10T08:25:12.960809Z",
     "iopub.status.busy": "2024-07-10T08:25:12.960572Z",
     "iopub.status.idle": "2024-07-10T08:25:12.992279Z",
     "shell.execute_reply": "2024-07-10T08:25:12.991683Z"
    },
    "papermill": {
     "duration": 0.039108,
     "end_time": "2024-07-10T08:25:12.993919",
     "exception": false,
     "start_time": "2024-07-10T08:25:12.954811",
     "status": "completed"
    },
    "tags": []
   },
   "outputs": [
    {
     "name": "stdout",
     "output_type": "stream",
     "text": [
      "k3_split\n",
      "fold-0       897\n",
      "fold-1       897\n",
      "fold-2       894\n",
      "fold-sisa      1\n",
      "Name: count, dtype: int64\n",
      "--------fold-0 birads---------\n",
      "BI-RADS 0 : None\n",
      "BI-RADS 1 : 155\n",
      "BI-RADS 2 : 138\n",
      "BI-RADS 3 : 167\n",
      "BI-RADS 4 : 324\n",
      "BI-RADS 5 : 113\n",
      "--------fold-1 birads---------\n",
      "BI-RADS 0 : None\n",
      "BI-RADS 1 : 155\n",
      "BI-RADS 2 : 138\n",
      "BI-RADS 3 : 167\n",
      "BI-RADS 4 : 324\n",
      "BI-RADS 5 : 113\n",
      "--------fold-2 birads---------\n",
      "BI-RADS 0 : None\n",
      "BI-RADS 1 : 154\n",
      "BI-RADS 2 : 138\n",
      "BI-RADS 3 : 166\n",
      "BI-RADS 4 : 323\n",
      "BI-RADS 5 : 113\n",
      "-------fold-sisa birads-------\n",
      "BI-RADS 0 : None\n",
      "BI-RADS 1 : None\n",
      "BI-RADS 2 : 1\n",
      "BI-RADS 3 : None\n",
      "BI-RADS 4 : None\n",
      "BI-RADS 5 : None\n"
     ]
    }
   ],
   "source": [
    "#  balanced-fold unbalance dataset\n",
    "print_kfold_birads_counts(k=3, balanced=False)"
   ]
  },
  {
   "cell_type": "code",
   "execution_count": 8,
   "id": "37c1c9a7",
   "metadata": {
    "execution": {
     "iopub.execute_input": "2024-07-10T08:25:13.004494Z",
     "iopub.status.busy": "2024-07-10T08:25:13.004249Z",
     "iopub.status.idle": "2024-07-10T08:25:13.190541Z",
     "shell.execute_reply": "2024-07-10T08:25:13.189958Z"
    },
    "papermill": {
     "duration": 0.193378,
     "end_time": "2024-07-10T08:25:13.192225",
     "exception": false,
     "start_time": "2024-07-10T08:25:12.998847",
     "status": "completed"
    },
    "tags": []
   },
   "outputs": [
    {
     "name": "stdout",
     "output_type": "stream",
     "text": [
      "2689\n"
     ]
    },
    {
     "name": "stdout",
     "output_type": "stream",
     "text": [
      "2689\n"
     ]
    },
    {
     "data": {
      "text/html": [
       "<div>\n",
       "<style scoped>\n",
       "    .dataframe tbody tr th:only-of-type {\n",
       "        vertical-align: middle;\n",
       "    }\n",
       "\n",
       "    .dataframe tbody tr th {\n",
       "        vertical-align: top;\n",
       "    }\n",
       "\n",
       "    .dataframe thead th {\n",
       "        text-align: right;\n",
       "    }\n",
       "</style>\n",
       "<table border=\"1\" class=\"dataframe\">\n",
       "  <thead>\n",
       "    <tr style=\"text-align: right;\">\n",
       "      <th></th>\n",
       "      <th>pair_id</th>\n",
       "      <th>label</th>\n",
       "      <th>k3_split</th>\n",
       "      <th>k4_split</th>\n",
       "      <th>k5_split</th>\n",
       "    </tr>\n",
       "  </thead>\n",
       "  <tbody>\n",
       "    <tr>\n",
       "      <th>0</th>\n",
       "      <td>0025a5dc99fd5c742026f0b2b030d3e9_L</td>\n",
       "      <td>1.0</td>\n",
       "      <td>fold-0</td>\n",
       "      <td>fold-3</td>\n",
       "      <td>fold-4</td>\n",
       "    </tr>\n",
       "    <tr>\n",
       "      <th>1</th>\n",
       "      <td>0025a5dc99fd5c742026f0b2b030d3e9_R</td>\n",
       "      <td>1.0</td>\n",
       "      <td>fold-0</td>\n",
       "      <td>fold-2</td>\n",
       "      <td>fold-3</td>\n",
       "    </tr>\n",
       "    <tr>\n",
       "      <th>2</th>\n",
       "      <td>0028fb2c7f0b3a5cb9a80cb0e1cdbb91_L</td>\n",
       "      <td>2.0</td>\n",
       "      <td>fold-1</td>\n",
       "      <td>fold-2</td>\n",
       "      <td>fold-4</td>\n",
       "    </tr>\n",
       "    <tr>\n",
       "      <th>3</th>\n",
       "      <td>0028fb2c7f0b3a5cb9a80cb0e1cdbb91_R</td>\n",
       "      <td>2.0</td>\n",
       "      <td>fold-0</td>\n",
       "      <td>fold-1</td>\n",
       "      <td>fold-3</td>\n",
       "    </tr>\n",
       "    <tr>\n",
       "      <th>4</th>\n",
       "      <td>0034765af074f93ed33d5e8399355caf_L</td>\n",
       "      <td>2.0</td>\n",
       "      <td>fold-0</td>\n",
       "      <td>fold-0</td>\n",
       "      <td>fold-2</td>\n",
       "    </tr>\n",
       "  </tbody>\n",
       "</table>\n",
       "</div>"
      ],
      "text/plain": [
       "                              pair_id  label k3_split k4_split k5_split\n",
       "0  0025a5dc99fd5c742026f0b2b030d3e9_L    1.0   fold-0   fold-3   fold-4\n",
       "1  0025a5dc99fd5c742026f0b2b030d3e9_R    1.0   fold-0   fold-2   fold-3\n",
       "2  0028fb2c7f0b3a5cb9a80cb0e1cdbb91_L    2.0   fold-1   fold-2   fold-4\n",
       "3  0028fb2c7f0b3a5cb9a80cb0e1cdbb91_R    2.0   fold-0   fold-1   fold-3\n",
       "4  0034765af074f93ed33d5e8399355caf_L    2.0   fold-0   fold-0   fold-2"
      ]
     },
     "execution_count": 8,
     "metadata": {},
     "output_type": "execute_result"
    }
   ],
   "source": [
    "k_range = 3, 6\n",
    "for balancing in [\"balanced\", \"unbalanced\"]:\n",
    "    balanced = True if balancing==\"balanced\" else False\n",
    "    kfold_ds = ds.copy()\n",
    "    collumns_to_save = [\"pair_id\",\"BI_RADS_MAX\"]\n",
    "    for k in range(*k_range):\n",
    "        kfold_ds = get_kfold_df(k, kfold_ds, balanced)\n",
    "        collumns_to_save.append(f\"k{k}_split\")\n",
    "    kfold_ds = kfold_ds.loc[:, collumns_to_save].rename(columns={\"BI_RADS_MAX\":\"label\"})\n",
    "    print(len(kfold_ds))\n",
    "    kfold_ds.to_csv(f\"{balancing}_k-fold_splits.csv\",index=False)\n",
    "kfold_ds.head()"
   ]
  },
  {
   "cell_type": "markdown",
   "id": "e5278fe6",
   "metadata": {
    "papermill": {
     "duration": 0.004893,
     "end_time": "2024-07-10T08:25:13.202261",
     "exception": false,
     "start_time": "2024-07-10T08:25:13.197368",
     "status": "completed"
    },
    "tags": []
   },
   "source": [
    "## processing DICOM"
   ]
  },
  {
   "cell_type": "code",
   "execution_count": 9,
   "id": "3af4d7d2",
   "metadata": {
    "_cell_guid": "b1076dfc-b9ad-4769-8c92-a6c4dae69d19",
    "_uuid": "8f2839f25d086af736a60e9eeb907d3b93b6e0e5",
    "execution": {
     "iopub.execute_input": "2024-07-10T08:25:13.213399Z",
     "iopub.status.busy": "2024-07-10T08:25:13.213086Z",
     "iopub.status.idle": "2024-07-10T08:25:14.829789Z",
     "shell.execute_reply": "2024-07-10T08:25:14.828821Z"
    },
    "papermill": {
     "duration": 1.624778,
     "end_time": "2024-07-10T08:25:14.831942",
     "exception": false,
     "start_time": "2024-07-10T08:25:13.207164",
     "status": "completed"
    },
    "tags": []
   },
   "outputs": [],
   "source": [
    "#@title function to load dicom\n",
    "# core function from :\n",
    "# https://www.kaggle.com/code/raddar/convert-dicom-to-np-array-the-correct-way/notebook\n",
    "\n",
    "import cv2\n",
    "import pydicom\n",
    "import numpy as np\n",
    "import zipfile\n",
    "import matplotlib.pyplot as plt\n",
    "from pydicom.pixel_data_handlers.util import apply_voi_lut\n",
    "from io import BytesIO\n",
    "\n",
    "\n",
    "def image_resize(image, width = None, height = None, inter = cv2.INTER_LINEAR):\n",
    "    dim = None\n",
    "    (h, w) = image.shape[:2]\n",
    "    if width is None and height is None:\n",
    "        return image\n",
    "    if width is None:\n",
    "        r = height / float(h)\n",
    "        dim = (int(w * r), height)\n",
    "    else:\n",
    "        r = width / float(w)\n",
    "        dim = (width, int(h * r))\n",
    "    resized = cv2.resize(image, dim, interpolation = inter)\n",
    "    return resized\n",
    "\n",
    "def crop_coords(img):\n",
    "    \"\"\"\n",
    "    Crop ROI from image.\n",
    "    \"\"\"\n",
    "    # Otsu's thresholding after Gaussian filtering\n",
    "    blur = cv2.GaussianBlur(img, (5, 5), 0.1)\n",
    "    img_16bit = cv2.normalize(blur, None, 0, 65535, cv2.NORM_MINMAX, dtype=cv2.CV_16U) \n",
    "    _, breast_mask = cv2.threshold(img_16bit,0,255,cv2.THRESH_BINARY+cv2.THRESH_OTSU)\n",
    "    cnts, _ = cv2.findContours(breast_mask.astype(np.uint8), cv2.RETR_EXTERNAL, cv2.CHAIN_APPROX_SIMPLE)\n",
    "    cnt = max(cnts, key = cv2.contourArea)\n",
    "    x, y, w, h = cv2.boundingRect(cnt)\n",
    "    return (x, y, w, h)\n",
    "\n",
    "def otsu_roi_crop(data):\n",
    "    xmin, ymin, w, h = crop_coords(data)\n",
    "    xmax = xmin + w\n",
    "    ymax = ymin + h\n",
    "    data = data[ymin:ymax,xmin:xmax]\n",
    "    return data\n",
    "\n",
    "def pad_to_scale_ratio(img, laterality, scale):\n",
    "    height, width = img.shape[:2]\n",
    "    target_ratio = scale[0] / scale[1]\n",
    "\n",
    "    if width / height > target_ratio:  # Image is wider than 9:16\n",
    "        new_width = width\n",
    "        new_height = int(width / target_ratio)\n",
    "        top_bottom_padding = (new_height - height) // 2\n",
    "        left_right_padding = 0\n",
    "    else:  # Image is taller than 9:16\n",
    "        new_width = int(height * target_ratio)\n",
    "        new_height = height\n",
    "        top_bottom_padding = 0\n",
    "        if laterality == \"R\":\n",
    "            left_right_padding = (new_width - width)\n",
    "        else:\n",
    "            left_right_padding = 0\n",
    "\n",
    "    # Create a blank image with the target dimensions\n",
    "    padded_img = np.zeros((new_height, new_width), dtype=np.uint8)\n",
    "\n",
    "    # Copy the original image onto the padded image with the calculated offsets\n",
    "    padded_img[top_bottom_padding:top_bottom_padding + height, \n",
    "               left_right_padding:left_right_padding + width] = img\n",
    "\n",
    "    return padded_img\n",
    "\n",
    "def get_laterality(data):\n",
    "    sum_L = np.sum(data[:, :20])\n",
    "    sum_R = np.sum(data[:, -20:])\n",
    "    if sum_L == sum_R:\n",
    "        laterality = \"<?>\"\n",
    "    else:\n",
    "        laterality = 'L' if sum_L > sum_R else 'R'\n",
    "    return laterality\n",
    "\n",
    "def read_dicom(path,\n",
    "               voi_lut:bool=True,\n",
    "               fix_monochrome:bool=True,\n",
    "               pad_scale:tuple=None,\n",
    "               roi_crop:str=None,\n",
    "               resize:tuple|list=(288, 512)\n",
    "               ):\n",
    "    dicom = pydicom.read_file(path)\n",
    "    if voi_lut:\n",
    "        data = apply_voi_lut(dicom.pixel_array, dicom)\n",
    "    else:\n",
    "        data = dicom.pixel_array\n",
    "    if fix_monochrome and dicom.PhotometricInterpretation == \"MONOCHROME1\":\n",
    "        data = np.amax(data) - data\n",
    "    data = data - np.min(data)\n",
    "    data = data / np.max(data)\n",
    "    data = (data * 255).astype(np.uint8)\n",
    "    # otsu roi cropping\n",
    "    if roi_crop == 'otsu':\n",
    "#         data = pad_to_scale_ratio(data, get_laterality(data), (1,1))\n",
    "#         data = cv2.resize(data, (1024, 1024), interpolation=cv2.INTER_LINEAR)\n",
    "        data = otsu_roi_crop(data)\n",
    "    # padding\n",
    "    if pad_scale is not None:\n",
    "        data = pad_to_scale_ratio(data, get_laterality(data), pad_scale)\n",
    "    # resize\n",
    "    if resize is not None:\n",
    "        data = cv2.resize(data, resize, interpolation=cv2.INTER_LINEAR)\n",
    "\n",
    "    return data\n",
    "\n",
    "class D:\n",
    "    voi_lut = True\n",
    "    fix_monochrome = True\n",
    "    roi_crop = \"otsu\"\n",
    "    resize = (288, 512)\n",
    "    padding = (9,16)\n",
    "    \n",
    "def load_dicom_from_zip(image_path, zipfile_path, return_laterality=False):\n",
    "    kwargs = {\n",
    "      \"voi_lut\" : D.voi_lut,\n",
    "      \"fix_monochrome\" : D.fix_monochrome,\n",
    "      \"roi_crop\" : D.roi_crop,\n",
    "      \"resize\" : D.resize,\n",
    "      \"pad_scale\": D.padding,\n",
    "    }\n",
    "    with zipfile.ZipFile(zipfile_path, \"r\") as zip_ref:\n",
    "        with zip_ref.open(image_path) as f:\n",
    "            image_bytes = BytesIO(f.read())\n",
    "    dicom_data = read_dicom(image_bytes, **kwargs)\n",
    "    del image_bytes\n",
    "    if return_laterality:\n",
    "        return dicom_data, get_laterality(dicom_data)\n",
    "    else:\n",
    "        return dicom_data"
   ]
  },
  {
   "cell_type": "markdown",
   "id": "778e2c37",
   "metadata": {
    "papermill": {
     "duration": 0.005045,
     "end_time": "2024-07-10T08:25:14.842139",
     "exception": false,
     "start_time": "2024-07-10T08:25:14.837094",
     "status": "completed"
    },
    "tags": []
   },
   "source": [
    "> catatan : terdapat inkonsistensi pada dataset CBIS-DDSM , laterality pada idnya tertulis \"LEFT\" tapi gambarnya \"R\" dan sebaliknya\n",
    "\n",
    "kesimpulan : dapat diabaikan"
   ]
  },
  {
   "cell_type": "code",
   "execution_count": 10,
   "id": "11cc3dc7",
   "metadata": {
    "execution": {
     "iopub.execute_input": "2024-07-10T08:25:14.853841Z",
     "iopub.status.busy": "2024-07-10T08:25:14.853465Z",
     "iopub.status.idle": "2024-07-10T08:25:26.707590Z",
     "shell.execute_reply": "2024-07-10T08:25:26.706848Z"
    },
    "papermill": {
     "duration": 11.871669,
     "end_time": "2024-07-10T08:25:26.718912",
     "exception": false,
     "start_time": "2024-07-10T08:25:14.847243",
     "status": "completed"
    },
    "tags": []
   },
   "outputs": [
    {
     "data": {
      "image/png": "[encoded data removed]",
      "text/plain": [
       "<Figure size 1600x1600 with 16 Axes>"
      ]
     },
     "metadata": {},
     "output_type": "display_data"
    }
   ],
   "source": [
    "ncol = 4\n",
    "nrow = 4\n",
    "bar_color = [255]\n",
    "bar_thickness = 5\n",
    "bar = np.array([bar_color * bar_thickness]*D.resize[1])\n",
    "random_index = np.random.randint(0,(len(ds)-ncol*nrow))\n",
    "plt.figure(figsize=(4*ncol, 4*nrow))\n",
    "for i in range(nrow*ncol):\n",
    "    _id0, image_path_cc, zipfile_path_cc = ds.loc[random_index+i, [\"pair_id\",\"image_path_CC\",\"zip_file_CC\"]]\n",
    "    img_cc, lat0 = load_dicom_from_zip(image_path_cc, zipfile_path_cc, return_laterality=True)\n",
    "    _id1, image_path_mlo, zipfile_path_mlo = ds.loc[random_index+i, [\"pair_id\",\"image_path_MLO\",\"zip_file_MLO\"]]\n",
    "    img_mlo, lat1 = load_dicom_from_zip(image_path_mlo, zipfile_path_mlo, return_laterality=True)\n",
    "    img = np.hstack((img_cc,bar,img_mlo))\n",
    "    plt.subplot(nrow, ncol, i + 1)\n",
    "    plt.imshow(img, cmap='gray')\n",
    "    if len(_id0) > 15:\n",
    "        _id0 = _id0[-15:]\n",
    "    plt.title(f\"{_id0}({lat0})\")\n",
    "    plt.axis(\"off\")\n",
    "plt.show()"
   ]
  },
  {
   "cell_type": "markdown",
   "id": "a42d19f8",
   "metadata": {
    "papermill": {
     "duration": 0.01233,
     "end_time": "2024-07-10T08:25:26.745051",
     "exception": false,
     "start_time": "2024-07-10T08:25:26.732721",
     "status": "completed"
    },
    "tags": []
   },
   "source": [
    "# Convert DICOM to PNG images"
   ]
  },
  {
   "cell_type": "code",
   "execution_count": 11,
   "id": "d40d2360",
   "metadata": {
    "execution": {
     "iopub.execute_input": "2024-07-10T08:25:26.770218Z",
     "iopub.status.busy": "2024-07-10T08:25:26.769957Z",
     "iopub.status.idle": "2024-07-10T08:26:35.562588Z",
     "shell.execute_reply": "2024-07-10T08:26:35.561361Z"
    },
    "papermill": {
     "duration": 68.80826,
     "end_time": "2024-07-10T08:26:35.565136",
     "exception": false,
     "start_time": "2024-07-10T08:25:26.756876",
     "status": "completed"
    },
    "tags": []
   },
   "outputs": [
    {
     "name": "stdout",
     "output_type": "stream",
     "text": [
      ".............creating images dataset..............\n",
      "saving PNG images to /kaggle/working/images\n"
     ]
    },
    {
     "name": "stderr",
     "output_type": "stream",
     "text": [
      "/usr/local/lib/python3.10/site-packages/tqdm/auto.py:21: TqdmWarning: IProgress not found. Please update jupyter and ipywidgets. See https://ipywidgets.readthedocs.io/en/stable/user_install.html\n",
      "  from .autonotebook import tqdm as notebook_tqdm\n"
     ]
    },
    {
     "name": "stderr",
     "output_type": "stream",
     "text": [
      "\r",
      "converting images:   0%|          | 0/2689 [00:00<?, ?it/s]"
     ]
    },
    {
     "name": "stderr",
     "output_type": "stream",
     "text": [
      "\r",
      "converting images:   0%|          | 1/2689 [00:01<55:46,  1.25s/it]"
     ]
    },
    {
     "name": "stderr",
     "output_type": "stream",
     "text": [
      "\r",
      "converting images:   0%|          | 4/2689 [00:01<12:53,  3.47it/s]"
     ]
    },
    {
     "name": "stderr",
     "output_type": "stream",
     "text": [
      "\r",
      "converting images:   0%|          | 9/2689 [00:01<05:43,  7.81it/s]"
     ]
    },
    {
     "name": "stderr",
     "output_type": "stream",
     "text": [
      "\r",
      "converting images:   1%|          | 17/2689 [00:01<02:37, 17.02it/s]"
     ]
    },
    {
     "name": "stderr",
     "output_type": "stream",
     "text": [
      "\r",
      "converting images:   1%|          | 22/2689 [00:01<02:01, 22.03it/s]"
     ]
    },
    {
     "name": "stderr",
     "output_type": "stream",
     "text": [
      "\r",
      "converting images:   1%|▏         | 35/2689 [00:01<01:05, 40.57it/s]"
     ]
    },
    {
     "name": "stderr",
     "output_type": "stream",
     "text": [
      "\r",
      "converting images:   2%|▏         | 58/2689 [00:02<00:33, 78.61it/s]"
     ]
    },
    {
     "name": "stderr",
     "output_type": "stream",
     "text": [
      "\r",
      "converting images:   3%|▎         | 86/2689 [00:02<00:21, 122.58it/s]"
     ]
    },
    {
     "name": "stderr",
     "output_type": "stream",
     "text": [
      "\r",
      "converting images:   4%|▍         | 103/2689 [00:03<00:58, 44.29it/s]"
     ]
    },
    {
     "name": "stderr",
     "output_type": "stream",
     "text": [
      "\r",
      "converting images:   4%|▍         | 116/2689 [00:03<01:02, 41.21it/s]"
     ]
    },
    {
     "name": "stderr",
     "output_type": "stream",
     "text": [
      "\r",
      "converting images:   5%|▍         | 126/2689 [00:03<00:57, 44.57it/s]"
     ]
    },
    {
     "name": "stderr",
     "output_type": "stream",
     "text": [
      "\r",
      "converting images:   5%|▌         | 141/2689 [00:03<00:45, 56.52it/s]"
     ]
    },
    {
     "name": "stderr",
     "output_type": "stream",
     "text": [
      "\r",
      "converting images:   6%|▌         | 152/2689 [00:03<00:39, 64.08it/s]"
     ]
    },
    {
     "name": "stderr",
     "output_type": "stream",
     "text": [
      "\r",
      "converting images:   6%|▋         | 170/2689 [00:03<00:30, 82.76it/s]"
     ]
    },
    {
     "name": "stderr",
     "output_type": "stream",
     "text": [
      "\r",
      "converting images:   7%|▋         | 184/2689 [00:04<00:27, 91.82it/s]"
     ]
    },
    {
     "name": "stderr",
     "output_type": "stream",
     "text": [
      "\r",
      "converting images:   7%|▋         | 197/2689 [00:04<01:03, 39.34it/s]"
     ]
    },
    {
     "name": "stderr",
     "output_type": "stream",
     "text": [
      "\r",
      "converting images:   8%|▊         | 207/2689 [00:05<01:02, 40.00it/s]"
     ]
    },
    {
     "name": "stderr",
     "output_type": "stream",
     "text": [
      "\r",
      "converting images:   8%|▊         | 216/2689 [00:05<00:55, 44.74it/s]"
     ]
    },
    {
     "name": "stderr",
     "output_type": "stream",
     "text": [
      "\r",
      "converting images:   8%|▊         | 228/2689 [00:05<00:44, 55.05it/s]"
     ]
    },
    {
     "name": "stderr",
     "output_type": "stream",
     "text": [
      "\r",
      "converting images:   9%|▉         | 237/2689 [00:05<00:43, 56.18it/s]"
     ]
    },
    {
     "name": "stderr",
     "output_type": "stream",
     "text": [
      "\r",
      "converting images:   9%|▉         | 245/2689 [00:05<00:44, 54.35it/s]"
     ]
    },
    {
     "name": "stderr",
     "output_type": "stream",
     "text": [
      "\r",
      "converting images:   9%|▉         | 254/2689 [00:05<00:40, 60.57it/s]"
     ]
    },
    {
     "name": "stderr",
     "output_type": "stream",
     "text": [
      "\r",
      "converting images:  10%|▉         | 268/2689 [00:05<00:32, 74.00it/s]"
     ]
    },
    {
     "name": "stderr",
     "output_type": "stream",
     "text": [
      "\r",
      "converting images:  10%|█         | 281/2689 [00:06<00:28, 84.85it/s]"
     ]
    },
    {
     "name": "stderr",
     "output_type": "stream",
     "text": [
      "\r",
      "converting images:  11%|█         | 291/2689 [00:06<00:51, 46.85it/s]"
     ]
    },
    {
     "name": "stderr",
     "output_type": "stream",
     "text": [
      "\r",
      "converting images:  11%|█         | 299/2689 [00:06<01:04, 37.21it/s]"
     ]
    },
    {
     "name": "stderr",
     "output_type": "stream",
     "text": [
      "\r",
      "converting images:  11%|█▏        | 307/2689 [00:06<00:55, 42.58it/s]"
     ]
    },
    {
     "name": "stderr",
     "output_type": "stream",
     "text": [
      "\r",
      "converting images:  12%|█▏        | 317/2689 [00:07<00:46, 51.50it/s]"
     ]
    },
    {
     "name": "stderr",
     "output_type": "stream",
     "text": [
      "\r",
      "converting images:  12%|█▏        | 327/2689 [00:07<00:39, 60.34it/s]"
     ]
    },
    {
     "name": "stderr",
     "output_type": "stream",
     "text": [
      "\r",
      "converting images:  12%|█▏        | 336/2689 [00:07<00:45, 52.01it/s]"
     ]
    },
    {
     "name": "stderr",
     "output_type": "stream",
     "text": [
      "\r",
      "converting images:  13%|█▎        | 343/2689 [00:07<00:46, 50.64it/s]"
     ]
    },
    {
     "name": "stderr",
     "output_type": "stream",
     "text": [
      "\r",
      "converting images:  13%|█▎        | 351/2689 [00:07<00:41, 56.26it/s]"
     ]
    },
    {
     "name": "stderr",
     "output_type": "stream",
     "text": [
      "\r",
      "converting images:  13%|█▎        | 359/2689 [00:07<00:38, 60.66it/s]"
     ]
    },
    {
     "name": "stderr",
     "output_type": "stream",
     "text": [
      "\r",
      "converting images:  14%|█▎        | 368/2689 [00:07<00:34, 67.06it/s]"
     ]
    },
    {
     "name": "stderr",
     "output_type": "stream",
     "text": [
      "\r",
      "converting images:  14%|█▍        | 378/2689 [00:07<00:30, 75.07it/s]"
     ]
    },
    {
     "name": "stderr",
     "output_type": "stream",
     "text": [
      "\r",
      "converting images:  14%|█▍        | 387/2689 [00:08<00:41, 55.36it/s]"
     ]
    },
    {
     "name": "stderr",
     "output_type": "stream",
     "text": [
      "\r",
      "converting images:  15%|█▍        | 394/2689 [00:08<00:59, 38.87it/s]"
     ]
    },
    {
     "name": "stderr",
     "output_type": "stream",
     "text": [
      "\r",
      "converting images:  15%|█▍        | 400/2689 [00:08<00:59, 38.39it/s]"
     ]
    },
    {
     "name": "stderr",
     "output_type": "stream",
     "text": [
      "\r",
      "converting images:  15%|█▌        | 409/2689 [00:08<00:48, 47.49it/s]"
     ]
    },
    {
     "name": "stderr",
     "output_type": "stream",
     "text": [
      "\r",
      "converting images:  16%|█▌        | 420/2689 [00:08<00:38, 58.64it/s]"
     ]
    },
    {
     "name": "stderr",
     "output_type": "stream",
     "text": [
      "\r",
      "converting images:  16%|█▌        | 428/2689 [00:09<00:44, 50.68it/s]"
     ]
    },
    {
     "name": "stderr",
     "output_type": "stream",
     "text": [
      "\r",
      "converting images:  16%|█▋        | 437/2689 [00:09<00:42, 53.34it/s]"
     ]
    },
    {
     "name": "stderr",
     "output_type": "stream",
     "text": [
      "\r",
      "converting images:  17%|█▋        | 447/2689 [00:09<00:35, 62.98it/s]"
     ]
    },
    {
     "name": "stderr",
     "output_type": "stream",
     "text": [
      "\r",
      "converting images:  17%|█▋        | 455/2689 [00:09<00:36, 61.24it/s]"
     ]
    },
    {
     "name": "stderr",
     "output_type": "stream",
     "text": [
      "\r",
      "converting images:  17%|█▋        | 466/2689 [00:09<00:32, 67.98it/s]"
     ]
    },
    {
     "name": "stderr",
     "output_type": "stream",
     "text": [
      "\r",
      "converting images:  18%|█▊        | 474/2689 [00:09<00:33, 65.25it/s]"
     ]
    },
    {
     "name": "stderr",
     "output_type": "stream",
     "text": [
      "\r",
      "converting images:  18%|█▊        | 481/2689 [00:09<00:34, 63.09it/s]"
     ]
    },
    {
     "name": "stderr",
     "output_type": "stream",
     "text": [
      "\r",
      "converting images:  18%|█▊        | 488/2689 [00:10<00:41, 52.48it/s]"
     ]
    },
    {
     "name": "stderr",
     "output_type": "stream",
     "text": [
      "\r",
      "converting images:  18%|█▊        | 494/2689 [00:10<00:56, 39.03it/s]"
     ]
    },
    {
     "name": "stderr",
     "output_type": "stream",
     "text": [
      "\r",
      "converting images:  19%|█▊        | 500/2689 [00:10<00:52, 41.70it/s]"
     ]
    },
    {
     "name": "stderr",
     "output_type": "stream",
     "text": [
      "\r",
      "converting images:  19%|█▉        | 508/2689 [00:10<00:44, 48.86it/s]"
     ]
    },
    {
     "name": "stderr",
     "output_type": "stream",
     "text": [
      "\r",
      "converting images:  19%|█▉        | 514/2689 [00:10<00:43, 50.39it/s]"
     ]
    },
    {
     "name": "stderr",
     "output_type": "stream",
     "text": [
      "\r",
      "converting images:  19%|█▉        | 520/2689 [00:10<00:42, 51.02it/s]"
     ]
    },
    {
     "name": "stderr",
     "output_type": "stream",
     "text": [
      "\r",
      "converting images:  20%|█▉        | 530/2689 [00:10<00:34, 62.64it/s]"
     ]
    },
    {
     "name": "stderr",
     "output_type": "stream",
     "text": [
      "\r",
      "converting images:  20%|█▉        | 537/2689 [00:11<00:46, 46.66it/s]"
     ]
    },
    {
     "name": "stderr",
     "output_type": "stream",
     "text": [
      "\r",
      "converting images:  20%|██        | 543/2689 [00:11<00:47, 45.61it/s]"
     ]
    },
    {
     "name": "stderr",
     "output_type": "stream",
     "text": [
      "\r",
      "converting images:  20%|██        | 551/2689 [00:11<00:41, 51.37it/s]"
     ]
    },
    {
     "name": "stderr",
     "output_type": "stream",
     "text": [
      "\r",
      "converting images:  21%|██        | 564/2689 [00:11<00:31, 67.84it/s]"
     ]
    },
    {
     "name": "stderr",
     "output_type": "stream",
     "text": [
      "\r",
      "converting images:  21%|██▏       | 573/2689 [00:11<00:28, 72.97it/s]"
     ]
    },
    {
     "name": "stderr",
     "output_type": "stream",
     "text": [
      "\r",
      "converting images:  22%|██▏       | 583/2689 [00:11<00:26, 79.73it/s]"
     ]
    },
    {
     "name": "stderr",
     "output_type": "stream",
     "text": [
      "\r",
      "converting images:  22%|██▏       | 592/2689 [00:12<00:44, 47.38it/s]"
     ]
    },
    {
     "name": "stderr",
     "output_type": "stream",
     "text": [
      "\r",
      "converting images:  22%|██▏       | 599/2689 [00:12<00:52, 39.95it/s]"
     ]
    },
    {
     "name": "stderr",
     "output_type": "stream",
     "text": [
      "\r",
      "converting images:  23%|██▎       | 608/2689 [00:12<00:43, 47.68it/s]"
     ]
    },
    {
     "name": "stderr",
     "output_type": "stream",
     "text": [
      "\r",
      "converting images:  23%|██▎       | 615/2689 [00:12<00:41, 50.35it/s]"
     ]
    },
    {
     "name": "stderr",
     "output_type": "stream",
     "text": [
      "\r",
      "converting images:  23%|██▎       | 626/2689 [00:12<00:35, 58.68it/s]"
     ]
    },
    {
     "name": "stderr",
     "output_type": "stream",
     "text": [
      "\r",
      "converting images:  24%|██▎       | 633/2689 [00:13<00:45, 45.16it/s]"
     ]
    },
    {
     "name": "stderr",
     "output_type": "stream",
     "text": [
      "\r",
      "converting images:  24%|██▍       | 639/2689 [00:13<00:43, 47.56it/s]"
     ]
    },
    {
     "name": "stderr",
     "output_type": "stream",
     "text": [
      "\r",
      "converting images:  24%|██▍       | 646/2689 [00:13<00:40, 50.94it/s]"
     ]
    },
    {
     "name": "stderr",
     "output_type": "stream",
     "text": [
      "\r",
      "converting images:  24%|██▍       | 657/2689 [00:13<00:34, 59.33it/s]"
     ]
    },
    {
     "name": "stderr",
     "output_type": "stream",
     "text": [
      "\r",
      "converting images:  25%|██▍       | 671/2689 [00:13<00:26, 76.52it/s]"
     ]
    },
    {
     "name": "stderr",
     "output_type": "stream",
     "text": [
      "\r",
      "converting images:  25%|██▌       | 681/2689 [00:13<00:25, 77.61it/s]"
     ]
    },
    {
     "name": "stderr",
     "output_type": "stream",
     "text": [
      "\r",
      "converting images:  26%|██▌       | 690/2689 [00:13<00:34, 57.61it/s]"
     ]
    },
    {
     "name": "stderr",
     "output_type": "stream",
     "text": [
      "\r",
      "converting images:  26%|██▌       | 697/2689 [00:14<00:52, 37.62it/s]"
     ]
    },
    {
     "name": "stderr",
     "output_type": "stream",
     "text": [
      "\r",
      "converting images:  26%|██▋       | 706/2689 [00:14<00:44, 45.00it/s]"
     ]
    },
    {
     "name": "stderr",
     "output_type": "stream",
     "text": [
      "\r",
      "converting images:  27%|██▋       | 713/2689 [00:14<00:40, 48.58it/s]"
     ]
    },
    {
     "name": "stderr",
     "output_type": "stream",
     "text": [
      "\r",
      "converting images:  27%|██▋       | 720/2689 [00:14<00:39, 49.72it/s]"
     ]
    },
    {
     "name": "stderr",
     "output_type": "stream",
     "text": [
      "\r",
      "converting images:  27%|██▋       | 727/2689 [00:14<00:41, 47.62it/s]"
     ]
    },
    {
     "name": "stderr",
     "output_type": "stream",
     "text": [
      "\r",
      "converting images:  27%|██▋       | 733/2689 [00:14<00:39, 49.55it/s]"
     ]
    },
    {
     "name": "stderr",
     "output_type": "stream",
     "text": [
      "\r",
      "converting images:  27%|██▋       | 739/2689 [00:15<00:42, 46.37it/s]"
     ]
    },
    {
     "name": "stderr",
     "output_type": "stream",
     "text": [
      "\r",
      "converting images:  28%|██▊       | 748/2689 [00:15<00:35, 54.05it/s]"
     ]
    },
    {
     "name": "stderr",
     "output_type": "stream",
     "text": [
      "\r",
      "converting images:  28%|██▊       | 758/2689 [00:15<00:33, 58.45it/s]"
     ]
    },
    {
     "name": "stderr",
     "output_type": "stream",
     "text": [
      "\r",
      "converting images:  29%|██▊       | 770/2689 [00:15<00:28, 66.62it/s]"
     ]
    },
    {
     "name": "stderr",
     "output_type": "stream",
     "text": [
      "\r",
      "converting images:  29%|██▉       | 777/2689 [00:15<00:30, 63.14it/s]"
     ]
    },
    {
     "name": "stderr",
     "output_type": "stream",
     "text": [
      "\r",
      "converting images:  29%|██▉       | 784/2689 [00:15<00:31, 60.46it/s]"
     ]
    },
    {
     "name": "stderr",
     "output_type": "stream",
     "text": [
      "\r",
      "converting images:  29%|██▉       | 791/2689 [00:15<00:41, 45.32it/s]"
     ]
    },
    {
     "name": "stderr",
     "output_type": "stream",
     "text": [
      "\r",
      "converting images:  30%|██▉       | 797/2689 [00:16<00:41, 45.65it/s]"
     ]
    },
    {
     "name": "stderr",
     "output_type": "stream",
     "text": [
      "\r",
      "converting images:  30%|██▉       | 804/2689 [00:16<00:37, 49.85it/s]"
     ]
    },
    {
     "name": "stderr",
     "output_type": "stream",
     "text": [
      "\r",
      "converting images:  30%|███       | 811/2689 [00:16<00:35, 52.30it/s]"
     ]
    },
    {
     "name": "stderr",
     "output_type": "stream",
     "text": [
      "\r",
      "converting images:  30%|███       | 817/2689 [00:16<00:40, 46.14it/s]"
     ]
    },
    {
     "name": "stderr",
     "output_type": "stream",
     "text": [
      "\r",
      "converting images:  31%|███       | 822/2689 [00:16<00:40, 46.44it/s]"
     ]
    },
    {
     "name": "stderr",
     "output_type": "stream",
     "text": [
      "\r",
      "converting images:  31%|███       | 829/2689 [00:16<00:37, 49.56it/s]"
     ]
    },
    {
     "name": "stderr",
     "output_type": "stream",
     "text": [
      "\r",
      "converting images:  31%|███       | 835/2689 [00:16<00:40, 45.93it/s]"
     ]
    },
    {
     "name": "stderr",
     "output_type": "stream",
     "text": [
      "\r",
      "converting images:  31%|███       | 840/2689 [00:16<00:40, 46.02it/s]"
     ]
    },
    {
     "name": "stderr",
     "output_type": "stream",
     "text": [
      "\r",
      "converting images:  31%|███▏      | 847/2689 [00:17<00:36, 50.53it/s]"
     ]
    },
    {
     "name": "stderr",
     "output_type": "stream",
     "text": [
      "\r",
      "converting images:  32%|███▏      | 856/2689 [00:17<00:30, 59.95it/s]"
     ]
    },
    {
     "name": "stderr",
     "output_type": "stream",
     "text": [
      "\r",
      "converting images:  32%|███▏      | 864/2689 [00:17<00:28, 63.18it/s]"
     ]
    },
    {
     "name": "stderr",
     "output_type": "stream",
     "text": [
      "\r",
      "converting images:  32%|███▏      | 871/2689 [00:17<00:28, 63.54it/s]"
     ]
    },
    {
     "name": "stderr",
     "output_type": "stream",
     "text": [
      "\r",
      "converting images:  33%|███▎      | 878/2689 [00:17<00:29, 62.06it/s]"
     ]
    },
    {
     "name": "stderr",
     "output_type": "stream",
     "text": [
      "\r",
      "converting images:  33%|███▎      | 885/2689 [00:17<00:33, 53.86it/s]"
     ]
    },
    {
     "name": "stderr",
     "output_type": "stream",
     "text": [
      "\r",
      "converting images:  33%|███▎      | 891/2689 [00:17<00:42, 42.47it/s]"
     ]
    },
    {
     "name": "stderr",
     "output_type": "stream",
     "text": [
      "\r",
      "converting images:  33%|███▎      | 897/2689 [00:18<00:40, 44.51it/s]"
     ]
    },
    {
     "name": "stderr",
     "output_type": "stream",
     "text": [
      "\r",
      "converting images:  34%|███▎      | 903/2689 [00:18<00:43, 41.41it/s]"
     ]
    },
    {
     "name": "stderr",
     "output_type": "stream",
     "text": [
      "\r",
      "converting images:  34%|███▍      | 909/2689 [00:18<00:39, 45.39it/s]"
     ]
    },
    {
     "name": "stderr",
     "output_type": "stream",
     "text": [
      "\r",
      "converting images:  34%|███▍      | 914/2689 [00:18<00:43, 41.07it/s]"
     ]
    },
    {
     "name": "stderr",
     "output_type": "stream",
     "text": [
      "\r",
      "converting images:  34%|███▍      | 920/2689 [00:18<00:41, 42.30it/s]"
     ]
    },
    {
     "name": "stderr",
     "output_type": "stream",
     "text": [
      "\r",
      "converting images:  34%|███▍      | 927/2689 [00:18<00:37, 47.12it/s]"
     ]
    },
    {
     "name": "stderr",
     "output_type": "stream",
     "text": [
      "\r",
      "converting images:  35%|███▍      | 932/2689 [00:18<00:38, 45.31it/s]"
     ]
    },
    {
     "name": "stderr",
     "output_type": "stream",
     "text": [
      "\r",
      "converting images:  35%|███▌      | 943/2689 [00:18<00:29, 58.58it/s]"
     ]
    },
    {
     "name": "stderr",
     "output_type": "stream",
     "text": [
      "\r",
      "converting images:  35%|███▌      | 953/2689 [00:19<00:25, 67.88it/s]"
     ]
    },
    {
     "name": "stderr",
     "output_type": "stream",
     "text": [
      "\r",
      "converting images:  36%|███▌      | 963/2689 [00:19<00:23, 73.21it/s]"
     ]
    },
    {
     "name": "stderr",
     "output_type": "stream",
     "text": [
      "\r",
      "converting images:  36%|███▌      | 971/2689 [00:19<00:28, 61.19it/s]"
     ]
    },
    {
     "name": "stderr",
     "output_type": "stream",
     "text": [
      "\r",
      "converting images:  36%|███▋      | 978/2689 [00:19<00:37, 45.26it/s]"
     ]
    },
    {
     "name": "stderr",
     "output_type": "stream",
     "text": [
      "\r",
      "converting images:  37%|███▋      | 984/2689 [00:19<00:41, 40.71it/s]"
     ]
    },
    {
     "name": "stderr",
     "output_type": "stream",
     "text": [
      "\r",
      "converting images:  37%|███▋      | 990/2689 [00:19<00:38, 43.67it/s]"
     ]
    },
    {
     "name": "stderr",
     "output_type": "stream",
     "text": [
      "\r",
      "converting images:  37%|███▋      | 997/2689 [00:20<00:34, 48.37it/s]"
     ]
    },
    {
     "name": "stderr",
     "output_type": "stream",
     "text": [
      "\r",
      "converting images:  37%|███▋      | 1003/2689 [00:20<00:35, 48.10it/s]"
     ]
    },
    {
     "name": "stderr",
     "output_type": "stream",
     "text": [
      "\r",
      "converting images:  38%|███▊      | 1009/2689 [00:20<00:33, 49.84it/s]"
     ]
    },
    {
     "name": "stderr",
     "output_type": "stream",
     "text": [
      "\r",
      "converting images:  38%|███▊      | 1018/2689 [00:20<00:30, 55.15it/s]"
     ]
    },
    {
     "name": "stderr",
     "output_type": "stream",
     "text": [
      "\r",
      "converting images:  38%|███▊      | 1024/2689 [00:20<00:37, 43.90it/s]"
     ]
    },
    {
     "name": "stderr",
     "output_type": "stream",
     "text": [
      "\r",
      "converting images:  38%|███▊      | 1029/2689 [00:20<00:39, 41.61it/s]"
     ]
    },
    {
     "name": "stderr",
     "output_type": "stream",
     "text": [
      "\r",
      "converting images:  39%|███▊      | 1038/2689 [00:20<00:32, 50.44it/s]"
     ]
    },
    {
     "name": "stderr",
     "output_type": "stream",
     "text": [
      "\r",
      "converting images:  39%|███▉      | 1048/2689 [00:21<00:26, 61.90it/s]"
     ]
    },
    {
     "name": "stderr",
     "output_type": "stream",
     "text": [
      "\r",
      "converting images:  39%|███▉      | 1055/2689 [00:21<00:27, 59.45it/s]"
     ]
    },
    {
     "name": "stderr",
     "output_type": "stream",
     "text": [
      "\r",
      "converting images:  40%|███▉      | 1066/2689 [00:21<00:25, 64.84it/s]"
     ]
    },
    {
     "name": "stderr",
     "output_type": "stream",
     "text": [
      "\r",
      "converting images:  40%|███▉      | 1073/2689 [00:21<00:30, 53.08it/s]"
     ]
    },
    {
     "name": "stderr",
     "output_type": "stream",
     "text": [
      "\r",
      "converting images:  40%|████      | 1079/2689 [00:21<00:43, 36.61it/s]"
     ]
    },
    {
     "name": "stderr",
     "output_type": "stream",
     "text": [
      "\r",
      "converting images:  40%|████      | 1084/2689 [00:21<00:42, 37.47it/s]"
     ]
    },
    {
     "name": "stderr",
     "output_type": "stream",
     "text": [
      "\r",
      "converting images:  41%|████      | 1090/2689 [00:22<00:40, 39.44it/s]"
     ]
    },
    {
     "name": "stderr",
     "output_type": "stream",
     "text": [
      "\r",
      "converting images:  41%|████      | 1101/2689 [00:22<00:29, 53.52it/s]"
     ]
    },
    {
     "name": "stderr",
     "output_type": "stream",
     "text": [
      "\r",
      "converting images:  41%|████▏     | 1114/2689 [00:22<00:24, 63.64it/s]"
     ]
    },
    {
     "name": "stderr",
     "output_type": "stream",
     "text": [
      "\r",
      "converting images:  42%|████▏     | 1122/2689 [00:22<00:24, 64.31it/s]"
     ]
    },
    {
     "name": "stderr",
     "output_type": "stream",
     "text": [
      "\r",
      "converting images:  42%|████▏     | 1129/2689 [00:22<00:28, 55.14it/s]"
     ]
    },
    {
     "name": "stderr",
     "output_type": "stream",
     "text": [
      "\r",
      "converting images:  42%|████▏     | 1135/2689 [00:22<00:32, 48.49it/s]"
     ]
    },
    {
     "name": "stderr",
     "output_type": "stream",
     "text": [
      "\r",
      "converting images:  42%|████▏     | 1142/2689 [00:22<00:29, 52.60it/s]"
     ]
    },
    {
     "name": "stderr",
     "output_type": "stream",
     "text": [
      "\r",
      "converting images:  43%|████▎     | 1149/2689 [00:22<00:27, 56.62it/s]"
     ]
    },
    {
     "name": "stderr",
     "output_type": "stream",
     "text": [
      "\r",
      "converting images:  43%|████▎     | 1157/2689 [00:23<00:25, 60.86it/s]"
     ]
    },
    {
     "name": "stderr",
     "output_type": "stream",
     "text": [
      "\r",
      "converting images:  43%|████▎     | 1165/2689 [00:23<00:24, 63.32it/s]"
     ]
    },
    {
     "name": "stderr",
     "output_type": "stream",
     "text": [
      "\r",
      "converting images:  44%|████▎     | 1172/2689 [00:23<00:29, 51.28it/s]"
     ]
    },
    {
     "name": "stderr",
     "output_type": "stream",
     "text": [
      "\r",
      "converting images:  44%|████▍     | 1178/2689 [00:23<00:38, 39.52it/s]"
     ]
    },
    {
     "name": "stderr",
     "output_type": "stream",
     "text": [
      "\r",
      "converting images:  44%|████▍     | 1183/2689 [00:23<00:37, 40.57it/s]"
     ]
    },
    {
     "name": "stderr",
     "output_type": "stream",
     "text": [
      "\r",
      "converting images:  44%|████▍     | 1189/2689 [00:23<00:34, 44.10it/s]"
     ]
    },
    {
     "name": "stderr",
     "output_type": "stream",
     "text": [
      "\r",
      "converting images:  44%|████▍     | 1196/2689 [00:24<00:30, 48.29it/s]"
     ]
    },
    {
     "name": "stderr",
     "output_type": "stream",
     "text": [
      "\r",
      "converting images:  45%|████▍     | 1206/2689 [00:24<00:24, 59.53it/s]"
     ]
    },
    {
     "name": "stderr",
     "output_type": "stream",
     "text": [
      "\r",
      "converting images:  45%|████▌     | 1213/2689 [00:24<00:28, 51.48it/s]"
     ]
    },
    {
     "name": "stderr",
     "output_type": "stream",
     "text": [
      "\r",
      "converting images:  45%|████▌     | 1219/2689 [00:24<00:28, 51.81it/s]"
     ]
    },
    {
     "name": "stderr",
     "output_type": "stream",
     "text": [
      "\r",
      "converting images:  46%|████▌     | 1225/2689 [00:24<00:28, 51.55it/s]"
     ]
    },
    {
     "name": "stderr",
     "output_type": "stream",
     "text": [
      "\r",
      "converting images:  46%|████▌     | 1231/2689 [00:24<00:30, 47.98it/s]"
     ]
    },
    {
     "name": "stderr",
     "output_type": "stream",
     "text": [
      "\r",
      "converting images:  46%|████▌     | 1238/2689 [00:24<00:29, 49.25it/s]"
     ]
    },
    {
     "name": "stderr",
     "output_type": "stream",
     "text": [
      "\r",
      "converting images:  46%|████▋     | 1245/2689 [00:24<00:27, 53.13it/s]"
     ]
    },
    {
     "name": "stderr",
     "output_type": "stream",
     "text": [
      "\r",
      "converting images:  47%|████▋     | 1255/2689 [00:25<00:22, 62.97it/s]"
     ]
    },
    {
     "name": "stderr",
     "output_type": "stream",
     "text": [
      "\r",
      "converting images:  47%|████▋     | 1262/2689 [00:25<00:27, 52.26it/s]"
     ]
    },
    {
     "name": "stderr",
     "output_type": "stream",
     "text": [
      "\r",
      "converting images:  47%|████▋     | 1268/2689 [00:25<00:33, 42.49it/s]"
     ]
    },
    {
     "name": "stderr",
     "output_type": "stream",
     "text": [
      "\r",
      "converting images:  47%|████▋     | 1273/2689 [00:25<00:35, 40.05it/s]"
     ]
    },
    {
     "name": "stderr",
     "output_type": "stream",
     "text": [
      "\r",
      "converting images:  48%|████▊     | 1278/2689 [00:25<00:34, 41.50it/s]"
     ]
    },
    {
     "name": "stderr",
     "output_type": "stream",
     "text": [
      "\r",
      "converting images:  48%|████▊     | 1286/2689 [00:25<00:28, 48.61it/s]"
     ]
    },
    {
     "name": "stderr",
     "output_type": "stream",
     "text": [
      "\r",
      "converting images:  48%|████▊     | 1297/2689 [00:25<00:22, 62.21it/s]"
     ]
    },
    {
     "name": "stderr",
     "output_type": "stream",
     "text": [
      "\r",
      "converting images:  48%|████▊     | 1304/2689 [00:26<00:22, 62.88it/s]"
     ]
    },
    {
     "name": "stderr",
     "output_type": "stream",
     "text": [
      "\r",
      "converting images:  49%|████▉     | 1311/2689 [00:26<00:26, 52.18it/s]"
     ]
    },
    {
     "name": "stderr",
     "output_type": "stream",
     "text": [
      "\r",
      "converting images:  49%|████▉     | 1317/2689 [00:26<00:27, 50.24it/s]"
     ]
    },
    {
     "name": "stderr",
     "output_type": "stream",
     "text": [
      "\r",
      "converting images:  49%|████▉     | 1326/2689 [00:26<00:23, 59.02it/s]"
     ]
    },
    {
     "name": "stderr",
     "output_type": "stream",
     "text": [
      "\r",
      "converting images:  50%|████▉     | 1333/2689 [00:26<00:23, 56.66it/s]"
     ]
    },
    {
     "name": "stderr",
     "output_type": "stream",
     "text": [
      "\r",
      "converting images:  50%|████▉     | 1339/2689 [00:26<00:30, 44.73it/s]"
     ]
    },
    {
     "name": "stderr",
     "output_type": "stream",
     "text": [
      "\r",
      "converting images:  50%|█████     | 1352/2689 [00:26<00:22, 60.76it/s]"
     ]
    },
    {
     "name": "stderr",
     "output_type": "stream",
     "text": [
      "\r",
      "converting images:  51%|█████     | 1359/2689 [00:27<00:22, 57.95it/s]"
     ]
    },
    {
     "name": "stderr",
     "output_type": "stream",
     "text": [
      "\r",
      "converting images:  51%|█████     | 1366/2689 [00:27<00:25, 52.19it/s]"
     ]
    },
    {
     "name": "stderr",
     "output_type": "stream",
     "text": [
      "\r",
      "converting images:  51%|█████     | 1372/2689 [00:27<00:29, 44.73it/s]"
     ]
    },
    {
     "name": "stderr",
     "output_type": "stream",
     "text": [
      "\r",
      "converting images:  51%|█████     | 1377/2689 [00:27<00:29, 44.30it/s]"
     ]
    },
    {
     "name": "stderr",
     "output_type": "stream",
     "text": [
      "\r",
      "converting images:  51%|█████▏    | 1384/2689 [00:27<00:26, 48.94it/s]"
     ]
    },
    {
     "name": "stderr",
     "output_type": "stream",
     "text": [
      "\r",
      "converting images:  52%|█████▏    | 1390/2689 [00:27<00:26, 49.34it/s]"
     ]
    },
    {
     "name": "stderr",
     "output_type": "stream",
     "text": [
      "\r",
      "converting images:  52%|█████▏    | 1396/2689 [00:27<00:25, 50.42it/s]"
     ]
    },
    {
     "name": "stderr",
     "output_type": "stream",
     "text": [
      "\r",
      "converting images:  52%|█████▏    | 1405/2689 [00:28<00:21, 58.89it/s]"
     ]
    },
    {
     "name": "stderr",
     "output_type": "stream",
     "text": [
      "\r",
      "converting images:  53%|█████▎    | 1412/2689 [00:28<00:24, 52.51it/s]"
     ]
    },
    {
     "name": "stderr",
     "output_type": "stream",
     "text": [
      "\r",
      "converting images:  53%|█████▎    | 1423/2689 [00:28<00:21, 59.72it/s]"
     ]
    },
    {
     "name": "stderr",
     "output_type": "stream",
     "text": [
      "\r",
      "converting images:  53%|█████▎    | 1432/2689 [00:28<00:20, 60.98it/s]"
     ]
    },
    {
     "name": "stderr",
     "output_type": "stream",
     "text": [
      "\r",
      "converting images:  54%|█████▎    | 1439/2689 [00:28<00:20, 62.07it/s]"
     ]
    },
    {
     "name": "stderr",
     "output_type": "stream",
     "text": [
      "\r",
      "converting images:  54%|█████▍    | 1446/2689 [00:28<00:20, 61.79it/s]"
     ]
    },
    {
     "name": "stderr",
     "output_type": "stream",
     "text": [
      "\r",
      "converting images:  54%|█████▍    | 1453/2689 [00:28<00:21, 58.65it/s]"
     ]
    },
    {
     "name": "stderr",
     "output_type": "stream",
     "text": [
      "\r",
      "converting images:  54%|█████▍    | 1459/2689 [00:28<00:22, 55.75it/s]"
     ]
    },
    {
     "name": "stderr",
     "output_type": "stream",
     "text": [
      "\r",
      "converting images:  54%|█████▍    | 1465/2689 [00:29<00:25, 48.03it/s]"
     ]
    },
    {
     "name": "stderr",
     "output_type": "stream",
     "text": [
      "\r",
      "converting images:  55%|█████▍    | 1473/2689 [00:29<00:22, 55.09it/s]"
     ]
    },
    {
     "name": "stderr",
     "output_type": "stream",
     "text": [
      "\r",
      "converting images:  55%|█████▌    | 1479/2689 [00:29<00:28, 42.82it/s]"
     ]
    },
    {
     "name": "stderr",
     "output_type": "stream",
     "text": [
      "\r",
      "converting images:  55%|█████▌    | 1484/2689 [00:29<00:27, 44.20it/s]"
     ]
    },
    {
     "name": "stderr",
     "output_type": "stream",
     "text": [
      "\r",
      "converting images:  56%|█████▌    | 1494/2689 [00:29<00:21, 56.10it/s]"
     ]
    },
    {
     "name": "stderr",
     "output_type": "stream",
     "text": [
      "\r",
      "converting images:  56%|█████▌    | 1501/2689 [00:29<00:21, 54.65it/s]"
     ]
    },
    {
     "name": "stderr",
     "output_type": "stream",
     "text": [
      "\r",
      "converting images:  56%|█████▌    | 1509/2689 [00:29<00:24, 48.61it/s]"
     ]
    },
    {
     "name": "stderr",
     "output_type": "stream",
     "text": [
      "\r",
      "converting images:  56%|█████▋    | 1515/2689 [00:30<00:24, 47.68it/s]"
     ]
    },
    {
     "name": "stderr",
     "output_type": "stream",
     "text": [
      "\r",
      "converting images:  57%|█████▋    | 1521/2689 [00:30<00:31, 37.49it/s]"
     ]
    },
    {
     "name": "stderr",
     "output_type": "stream",
     "text": [
      "\r",
      "converting images:  57%|█████▋    | 1528/2689 [00:30<00:37, 31.10it/s]"
     ]
    },
    {
     "name": "stderr",
     "output_type": "stream",
     "text": [
      "\r",
      "converting images:  57%|█████▋    | 1532/2689 [00:30<00:38, 29.95it/s]"
     ]
    },
    {
     "name": "stderr",
     "output_type": "stream",
     "text": [
      "\r",
      "converting images:  57%|█████▋    | 1536/2689 [00:30<00:38, 30.05it/s]"
     ]
    },
    {
     "name": "stderr",
     "output_type": "stream",
     "text": [
      "\r",
      "converting images:  57%|█████▋    | 1540/2689 [00:31<00:39, 28.87it/s]"
     ]
    },
    {
     "name": "stderr",
     "output_type": "stream",
     "text": [
      "\r",
      "converting images:  57%|█████▋    | 1544/2689 [00:31<00:38, 29.77it/s]"
     ]
    },
    {
     "name": "stderr",
     "output_type": "stream",
     "text": [
      "\r",
      "converting images:  58%|█████▊    | 1548/2689 [00:31<00:40, 27.91it/s]"
     ]
    },
    {
     "name": "stderr",
     "output_type": "stream",
     "text": [
      "\r",
      "converting images:  58%|█████▊    | 1552/2689 [00:31<00:38, 29.34it/s]"
     ]
    },
    {
     "name": "stderr",
     "output_type": "stream",
     "text": [
      "\r",
      "converting images:  58%|█████▊    | 1556/2689 [00:31<00:37, 29.89it/s]"
     ]
    },
    {
     "name": "stderr",
     "output_type": "stream",
     "text": [
      "\r",
      "converting images:  58%|█████▊    | 1560/2689 [00:31<00:42, 26.76it/s]"
     ]
    },
    {
     "name": "stderr",
     "output_type": "stream",
     "text": [
      "\r",
      "converting images:  58%|█████▊    | 1565/2689 [00:31<00:35, 31.52it/s]"
     ]
    },
    {
     "name": "stderr",
     "output_type": "stream",
     "text": [
      "\r",
      "converting images:  58%|█████▊    | 1572/2689 [00:32<00:27, 40.29it/s]"
     ]
    },
    {
     "name": "stderr",
     "output_type": "stream",
     "text": [
      "\r",
      "converting images:  59%|█████▊    | 1577/2689 [00:32<00:37, 29.97it/s]"
     ]
    },
    {
     "name": "stderr",
     "output_type": "stream",
     "text": [
      "\r",
      "converting images:  59%|█████▉    | 1584/2689 [00:32<00:29, 37.57it/s]"
     ]
    },
    {
     "name": "stderr",
     "output_type": "stream",
     "text": [
      "\r",
      "converting images:  59%|█████▉    | 1589/2689 [00:32<00:31, 34.42it/s]"
     ]
    },
    {
     "name": "stderr",
     "output_type": "stream",
     "text": [
      "\r",
      "converting images:  59%|█████▉    | 1594/2689 [00:32<00:33, 32.69it/s]"
     ]
    },
    {
     "name": "stderr",
     "output_type": "stream",
     "text": [
      "\r",
      "converting images:  59%|█████▉    | 1599/2689 [00:32<00:30, 35.92it/s]"
     ]
    },
    {
     "name": "stderr",
     "output_type": "stream",
     "text": [
      "\r",
      "converting images:  60%|█████▉    | 1606/2689 [00:33<00:26, 41.63it/s]"
     ]
    },
    {
     "name": "stderr",
     "output_type": "stream",
     "text": [
      "\r",
      "converting images:  60%|█████▉    | 1611/2689 [00:33<00:37, 29.08it/s]"
     ]
    },
    {
     "name": "stderr",
     "output_type": "stream",
     "text": [
      "\r",
      "converting images:  60%|██████    | 1615/2689 [00:33<00:35, 30.32it/s]"
     ]
    },
    {
     "name": "stderr",
     "output_type": "stream",
     "text": [
      "\r",
      "converting images:  60%|██████    | 1621/2689 [00:33<00:32, 32.39it/s]"
     ]
    },
    {
     "name": "stderr",
     "output_type": "stream",
     "text": [
      "\r",
      "converting images:  60%|██████    | 1625/2689 [00:33<00:38, 27.42it/s]"
     ]
    },
    {
     "name": "stderr",
     "output_type": "stream",
     "text": [
      "\r",
      "converting images:  61%|██████    | 1630/2689 [00:33<00:34, 30.88it/s]"
     ]
    },
    {
     "name": "stderr",
     "output_type": "stream",
     "text": [
      "\r",
      "converting images:  61%|██████    | 1634/2689 [00:34<00:34, 30.45it/s]"
     ]
    },
    {
     "name": "stderr",
     "output_type": "stream",
     "text": [
      "\r",
      "converting images:  61%|██████    | 1638/2689 [00:34<00:34, 30.27it/s]"
     ]
    },
    {
     "name": "stderr",
     "output_type": "stream",
     "text": [
      "\r",
      "converting images:  61%|██████    | 1642/2689 [00:34<00:32, 31.97it/s]"
     ]
    },
    {
     "name": "stderr",
     "output_type": "stream",
     "text": [
      "\r",
      "converting images:  61%|██████    | 1646/2689 [00:34<00:43, 23.80it/s]"
     ]
    },
    {
     "name": "stderr",
     "output_type": "stream",
     "text": [
      "\r",
      "converting images:  61%|██████▏   | 1650/2689 [00:34<00:44, 23.55it/s]"
     ]
    },
    {
     "name": "stderr",
     "output_type": "stream",
     "text": [
      "\r",
      "converting images:  61%|██████▏   | 1653/2689 [00:34<00:46, 22.07it/s]"
     ]
    },
    {
     "name": "stderr",
     "output_type": "stream",
     "text": [
      "\r",
      "converting images:  62%|██████▏   | 1658/2689 [00:35<00:38, 27.08it/s]"
     ]
    },
    {
     "name": "stderr",
     "output_type": "stream",
     "text": [
      "\r",
      "converting images:  62%|██████▏   | 1662/2689 [00:35<00:35, 28.58it/s]"
     ]
    },
    {
     "name": "stderr",
     "output_type": "stream",
     "text": [
      "\r",
      "converting images:  62%|██████▏   | 1671/2689 [00:35<00:24, 42.09it/s]"
     ]
    },
    {
     "name": "stderr",
     "output_type": "stream",
     "text": [
      "\r",
      "converting images:  62%|██████▏   | 1676/2689 [00:35<00:30, 33.07it/s]"
     ]
    },
    {
     "name": "stderr",
     "output_type": "stream",
     "text": [
      "\r",
      "converting images:  62%|██████▏   | 1680/2689 [00:35<00:30, 32.55it/s]"
     ]
    },
    {
     "name": "stderr",
     "output_type": "stream",
     "text": [
      "\r",
      "converting images:  63%|██████▎   | 1684/2689 [00:35<00:34, 29.08it/s]"
     ]
    },
    {
     "name": "stderr",
     "output_type": "stream",
     "text": [
      "\r",
      "converting images:  63%|██████▎   | 1689/2689 [00:35<00:31, 32.21it/s]"
     ]
    },
    {
     "name": "stderr",
     "output_type": "stream",
     "text": [
      "\r",
      "converting images:  63%|██████▎   | 1699/2689 [00:36<00:24, 41.03it/s]"
     ]
    },
    {
     "name": "stderr",
     "output_type": "stream",
     "text": [
      "\r",
      "converting images:  63%|██████▎   | 1705/2689 [00:36<00:25, 39.24it/s]"
     ]
    },
    {
     "name": "stderr",
     "output_type": "stream",
     "text": [
      "\r",
      "converting images:  64%|██████▎   | 1710/2689 [00:36<00:25, 37.95it/s]"
     ]
    },
    {
     "name": "stderr",
     "output_type": "stream",
     "text": [
      "\r",
      "converting images:  64%|██████▍   | 1715/2689 [00:36<00:26, 36.30it/s]"
     ]
    },
    {
     "name": "stderr",
     "output_type": "stream",
     "text": [
      "\r",
      "converting images:  64%|██████▍   | 1719/2689 [00:36<00:28, 33.77it/s]"
     ]
    },
    {
     "name": "stderr",
     "output_type": "stream",
     "text": [
      "\r",
      "converting images:  64%|██████▍   | 1723/2689 [00:36<00:33, 28.44it/s]"
     ]
    },
    {
     "name": "stderr",
     "output_type": "stream",
     "text": [
      "\r",
      "converting images:  64%|██████▍   | 1726/2689 [00:37<00:36, 26.30it/s]"
     ]
    },
    {
     "name": "stderr",
     "output_type": "stream",
     "text": [
      "\r",
      "converting images:  64%|██████▍   | 1730/2689 [00:37<00:33, 28.88it/s]"
     ]
    },
    {
     "name": "stderr",
     "output_type": "stream",
     "text": [
      "\r",
      "converting images:  64%|██████▍   | 1734/2689 [00:37<00:33, 28.48it/s]"
     ]
    },
    {
     "name": "stderr",
     "output_type": "stream",
     "text": [
      "\r",
      "converting images:  65%|██████▍   | 1737/2689 [00:37<00:38, 24.95it/s]"
     ]
    },
    {
     "name": "stderr",
     "output_type": "stream",
     "text": [
      "\r",
      "converting images:  65%|██████▍   | 1740/2689 [00:37<00:41, 23.13it/s]"
     ]
    },
    {
     "name": "stderr",
     "output_type": "stream",
     "text": [
      "\r",
      "converting images:  65%|██████▍   | 1743/2689 [00:37<00:41, 22.79it/s]"
     ]
    },
    {
     "name": "stderr",
     "output_type": "stream",
     "text": [
      "\r",
      "converting images:  65%|██████▌   | 1748/2689 [00:37<00:39, 23.75it/s]"
     ]
    },
    {
     "name": "stderr",
     "output_type": "stream",
     "text": [
      "\r",
      "converting images:  65%|██████▌   | 1755/2689 [00:38<00:28, 32.75it/s]"
     ]
    },
    {
     "name": "stderr",
     "output_type": "stream",
     "text": [
      "\r",
      "converting images:  65%|██████▌   | 1759/2689 [00:38<00:33, 27.44it/s]"
     ]
    },
    {
     "name": "stderr",
     "output_type": "stream",
     "text": [
      "\r",
      "converting images:  66%|██████▌   | 1763/2689 [00:38<00:31, 29.15it/s]"
     ]
    },
    {
     "name": "stderr",
     "output_type": "stream",
     "text": [
      "\r",
      "converting images:  66%|██████▌   | 1767/2689 [00:38<00:31, 29.05it/s]"
     ]
    },
    {
     "name": "stderr",
     "output_type": "stream",
     "text": [
      "\r",
      "converting images:  66%|██████▌   | 1772/2689 [00:38<00:28, 32.68it/s]"
     ]
    },
    {
     "name": "stderr",
     "output_type": "stream",
     "text": [
      "\r",
      "converting images:  66%|██████▌   | 1778/2689 [00:38<00:23, 38.58it/s]"
     ]
    },
    {
     "name": "stderr",
     "output_type": "stream",
     "text": [
      "\r",
      "converting images:  66%|██████▋   | 1783/2689 [00:38<00:26, 33.65it/s]"
     ]
    },
    {
     "name": "stderr",
     "output_type": "stream",
     "text": [
      "\r",
      "converting images:  67%|██████▋   | 1789/2689 [00:39<00:26, 34.37it/s]"
     ]
    },
    {
     "name": "stderr",
     "output_type": "stream",
     "text": [
      "\r",
      "converting images:  67%|██████▋   | 1793/2689 [00:39<00:39, 22.73it/s]"
     ]
    },
    {
     "name": "stderr",
     "output_type": "stream",
     "text": [
      "\r",
      "converting images:  67%|██████▋   | 1798/2689 [00:39<00:35, 25.41it/s]"
     ]
    },
    {
     "name": "stderr",
     "output_type": "stream",
     "text": [
      "\r",
      "converting images:  67%|██████▋   | 1802/2689 [00:39<00:34, 25.44it/s]"
     ]
    },
    {
     "name": "stderr",
     "output_type": "stream",
     "text": [
      "\r",
      "converting images:  67%|██████▋   | 1806/2689 [00:39<00:31, 28.11it/s]"
     ]
    },
    {
     "name": "stderr",
     "output_type": "stream",
     "text": [
      "\r",
      "converting images:  67%|██████▋   | 1810/2689 [00:40<00:34, 25.63it/s]"
     ]
    },
    {
     "name": "stderr",
     "output_type": "stream",
     "text": [
      "\r",
      "converting images:  67%|██████▋   | 1815/2689 [00:40<00:29, 29.62it/s]"
     ]
    },
    {
     "name": "stderr",
     "output_type": "stream",
     "text": [
      "\r",
      "converting images:  68%|██████▊   | 1825/2689 [00:40<00:19, 43.49it/s]"
     ]
    },
    {
     "name": "stderr",
     "output_type": "stream",
     "text": [
      "\r",
      "converting images:  68%|██████▊   | 1830/2689 [00:40<00:22, 38.40it/s]"
     ]
    },
    {
     "name": "stderr",
     "output_type": "stream",
     "text": [
      "\r",
      "converting images:  68%|██████▊   | 1836/2689 [00:40<00:20, 41.96it/s]"
     ]
    },
    {
     "name": "stderr",
     "output_type": "stream",
     "text": [
      "\r",
      "converting images:  68%|██████▊   | 1841/2689 [00:40<00:21, 39.62it/s]"
     ]
    },
    {
     "name": "stderr",
     "output_type": "stream",
     "text": [
      "\r",
      "converting images:  69%|██████▊   | 1846/2689 [00:40<00:25, 32.96it/s]"
     ]
    },
    {
     "name": "stderr",
     "output_type": "stream",
     "text": [
      "\r",
      "converting images:  69%|██████▉   | 1851/2689 [00:41<00:24, 34.42it/s]"
     ]
    },
    {
     "name": "stderr",
     "output_type": "stream",
     "text": [
      "\r",
      "converting images:  69%|██████▉   | 1855/2689 [00:41<00:28, 29.40it/s]"
     ]
    },
    {
     "name": "stderr",
     "output_type": "stream",
     "text": [
      "\r",
      "converting images:  69%|██████▉   | 1859/2689 [00:41<00:29, 27.89it/s]"
     ]
    },
    {
     "name": "stderr",
     "output_type": "stream",
     "text": [
      "\r",
      "converting images:  69%|██████▉   | 1862/2689 [00:41<00:37, 22.19it/s]"
     ]
    },
    {
     "name": "stderr",
     "output_type": "stream",
     "text": [
      "\r",
      "converting images:  69%|██████▉   | 1865/2689 [00:41<00:36, 22.76it/s]"
     ]
    },
    {
     "name": "stderr",
     "output_type": "stream",
     "text": [
      "\r",
      "converting images:  70%|██████▉   | 1870/2689 [00:41<00:32, 25.05it/s]"
     ]
    },
    {
     "name": "stderr",
     "output_type": "stream",
     "text": [
      "\r",
      "converting images:  70%|██████▉   | 1875/2689 [00:42<00:30, 26.78it/s]"
     ]
    },
    {
     "name": "stderr",
     "output_type": "stream",
     "text": [
      "\r",
      "converting images:  70%|██████▉   | 1879/2689 [00:42<00:29, 27.06it/s]"
     ]
    },
    {
     "name": "stderr",
     "output_type": "stream",
     "text": [
      "\r",
      "converting images:  70%|███████   | 1883/2689 [00:42<00:28, 28.41it/s]"
     ]
    },
    {
     "name": "stderr",
     "output_type": "stream",
     "text": [
      "\r",
      "converting images:  70%|███████   | 1890/2689 [00:42<00:23, 34.10it/s]"
     ]
    },
    {
     "name": "stderr",
     "output_type": "stream",
     "text": [
      "\r",
      "converting images:  70%|███████   | 1895/2689 [00:42<00:24, 31.89it/s]"
     ]
    },
    {
     "name": "stderr",
     "output_type": "stream",
     "text": [
      "\r",
      "converting images:  71%|███████   | 1902/2689 [00:42<00:21, 36.06it/s]"
     ]
    },
    {
     "name": "stderr",
     "output_type": "stream",
     "text": [
      "\r",
      "converting images:  71%|███████   | 1907/2689 [00:42<00:20, 38.55it/s]"
     ]
    },
    {
     "name": "stderr",
     "output_type": "stream",
     "text": [
      "\r",
      "converting images:  71%|███████   | 1914/2689 [00:43<00:17, 43.09it/s]"
     ]
    },
    {
     "name": "stderr",
     "output_type": "stream",
     "text": [
      "\r",
      "converting images:  71%|███████▏  | 1919/2689 [00:43<00:19, 40.51it/s]"
     ]
    },
    {
     "name": "stderr",
     "output_type": "stream",
     "text": [
      "\r",
      "converting images:  72%|███████▏  | 1924/2689 [00:43<00:20, 37.33it/s]"
     ]
    },
    {
     "name": "stderr",
     "output_type": "stream",
     "text": [
      "\r",
      "converting images:  72%|███████▏  | 1928/2689 [00:43<00:23, 32.13it/s]"
     ]
    },
    {
     "name": "stderr",
     "output_type": "stream",
     "text": [
      "\r",
      "converting images:  72%|███████▏  | 1932/2689 [00:43<00:26, 28.04it/s]"
     ]
    },
    {
     "name": "stderr",
     "output_type": "stream",
     "text": [
      "\r",
      "converting images:  72%|███████▏  | 1936/2689 [00:43<00:26, 28.40it/s]"
     ]
    },
    {
     "name": "stderr",
     "output_type": "stream",
     "text": [
      "\r",
      "converting images:  72%|███████▏  | 1940/2689 [00:44<00:31, 23.66it/s]"
     ]
    },
    {
     "name": "stderr",
     "output_type": "stream",
     "text": [
      "\r",
      "converting images:  72%|███████▏  | 1944/2689 [00:44<00:27, 26.63it/s]"
     ]
    },
    {
     "name": "stderr",
     "output_type": "stream",
     "text": [
      "\r",
      "converting images:  72%|███████▏  | 1947/2689 [00:44<00:28, 26.35it/s]"
     ]
    },
    {
     "name": "stderr",
     "output_type": "stream",
     "text": [
      "\r",
      "converting images:  73%|███████▎  | 1953/2689 [00:44<00:23, 31.61it/s]"
     ]
    },
    {
     "name": "stderr",
     "output_type": "stream",
     "text": [
      "\r",
      "converting images:  73%|███████▎  | 1957/2689 [00:44<00:25, 29.08it/s]"
     ]
    },
    {
     "name": "stderr",
     "output_type": "stream",
     "text": [
      "\r",
      "converting images:  73%|███████▎  | 1961/2689 [00:44<00:25, 28.23it/s]"
     ]
    },
    {
     "name": "stderr",
     "output_type": "stream",
     "text": [
      "\r",
      "converting images:  73%|███████▎  | 1964/2689 [00:44<00:26, 27.36it/s]"
     ]
    },
    {
     "name": "stderr",
     "output_type": "stream",
     "text": [
      "\r",
      "converting images:  73%|███████▎  | 1973/2689 [00:45<00:18, 39.08it/s]"
     ]
    },
    {
     "name": "stderr",
     "output_type": "stream",
     "text": [
      "\r",
      "converting images:  74%|███████▎  | 1980/2689 [00:45<00:16, 43.50it/s]"
     ]
    },
    {
     "name": "stderr",
     "output_type": "stream",
     "text": [
      "\r",
      "converting images:  74%|███████▍  | 1985/2689 [00:45<00:16, 43.66it/s]"
     ]
    },
    {
     "name": "stderr",
     "output_type": "stream",
     "text": [
      "\r",
      "converting images:  74%|███████▍  | 1990/2689 [00:45<00:16, 42.72it/s]"
     ]
    },
    {
     "name": "stderr",
     "output_type": "stream",
     "text": [
      "\r",
      "converting images:  74%|███████▍  | 1996/2689 [00:45<00:16, 41.27it/s]"
     ]
    },
    {
     "name": "stderr",
     "output_type": "stream",
     "text": [
      "\r",
      "converting images:  75%|███████▍  | 2006/2689 [00:45<00:14, 45.58it/s]"
     ]
    },
    {
     "name": "stderr",
     "output_type": "stream",
     "text": [
      "\r",
      "converting images:  75%|███████▍  | 2012/2689 [00:45<00:14, 47.59it/s]"
     ]
    },
    {
     "name": "stderr",
     "output_type": "stream",
     "text": [
      "\r",
      "converting images:  75%|███████▌  | 2017/2689 [00:46<00:16, 39.73it/s]"
     ]
    },
    {
     "name": "stderr",
     "output_type": "stream",
     "text": [
      "\r",
      "converting images:  75%|███████▌  | 2022/2689 [00:46<00:18, 37.02it/s]"
     ]
    },
    {
     "name": "stderr",
     "output_type": "stream",
     "text": [
      "\r",
      "converting images:  75%|███████▌  | 2027/2689 [00:46<00:19, 33.20it/s]"
     ]
    },
    {
     "name": "stderr",
     "output_type": "stream",
     "text": [
      "\r",
      "converting images:  76%|███████▌  | 2031/2689 [00:46<00:25, 25.82it/s]"
     ]
    },
    {
     "name": "stderr",
     "output_type": "stream",
     "text": [
      "\r",
      "converting images:  76%|███████▌  | 2038/2689 [00:46<00:19, 33.63it/s]"
     ]
    },
    {
     "name": "stderr",
     "output_type": "stream",
     "text": [
      "\r",
      "converting images:  76%|███████▌  | 2043/2689 [00:46<00:19, 33.44it/s]"
     ]
    },
    {
     "name": "stderr",
     "output_type": "stream",
     "text": [
      "\r",
      "converting images:  76%|███████▌  | 2047/2689 [00:47<00:19, 32.65it/s]"
     ]
    },
    {
     "name": "stderr",
     "output_type": "stream",
     "text": [
      "\r",
      "converting images:  76%|███████▋  | 2051/2689 [00:47<00:19, 32.18it/s]"
     ]
    },
    {
     "name": "stderr",
     "output_type": "stream",
     "text": [
      "\r",
      "converting images:  76%|███████▋  | 2057/2689 [00:47<00:16, 37.25it/s]"
     ]
    },
    {
     "name": "stderr",
     "output_type": "stream",
     "text": [
      "\r",
      "converting images:  77%|███████▋  | 2061/2689 [00:47<00:20, 30.80it/s]"
     ]
    },
    {
     "name": "stderr",
     "output_type": "stream",
     "text": [
      "\r",
      "converting images:  77%|███████▋  | 2068/2689 [00:47<00:20, 30.46it/s]"
     ]
    },
    {
     "name": "stderr",
     "output_type": "stream",
     "text": [
      "\r",
      "converting images:  77%|███████▋  | 2072/2689 [00:47<00:19, 31.03it/s]"
     ]
    },
    {
     "name": "stderr",
     "output_type": "stream",
     "text": [
      "\r",
      "converting images:  77%|███████▋  | 2076/2689 [00:48<00:25, 23.83it/s]"
     ]
    },
    {
     "name": "stderr",
     "output_type": "stream",
     "text": [
      "\r",
      "converting images:  77%|███████▋  | 2083/2689 [00:48<00:19, 30.56it/s]"
     ]
    },
    {
     "name": "stderr",
     "output_type": "stream",
     "text": [
      "\r",
      "converting images:  78%|███████▊  | 2088/2689 [00:48<00:17, 34.11it/s]"
     ]
    },
    {
     "name": "stderr",
     "output_type": "stream",
     "text": [
      "\r",
      "converting images:  78%|███████▊  | 2092/2689 [00:48<00:19, 30.16it/s]"
     ]
    },
    {
     "name": "stderr",
     "output_type": "stream",
     "text": [
      "\r",
      "converting images:  78%|███████▊  | 2096/2689 [00:48<00:20, 29.23it/s]"
     ]
    },
    {
     "name": "stderr",
     "output_type": "stream",
     "text": [
      "\r",
      "converting images:  78%|███████▊  | 2100/2689 [00:48<00:18, 31.02it/s]"
     ]
    },
    {
     "name": "stderr",
     "output_type": "stream",
     "text": [
      "\r",
      "converting images:  78%|███████▊  | 2104/2689 [00:49<00:22, 25.49it/s]"
     ]
    },
    {
     "name": "stderr",
     "output_type": "stream",
     "text": [
      "\r",
      "converting images:  78%|███████▊  | 2107/2689 [00:49<00:25, 23.14it/s]"
     ]
    },
    {
     "name": "stderr",
     "output_type": "stream",
     "text": [
      "\r",
      "converting images:  78%|███████▊  | 2110/2689 [00:49<00:24, 23.99it/s]"
     ]
    },
    {
     "name": "stderr",
     "output_type": "stream",
     "text": [
      "\r",
      "converting images:  79%|███████▊  | 2114/2689 [00:49<00:22, 25.94it/s]"
     ]
    },
    {
     "name": "stderr",
     "output_type": "stream",
     "text": [
      "\r",
      "converting images:  79%|███████▉  | 2119/2689 [00:49<00:18, 30.26it/s]"
     ]
    },
    {
     "name": "stderr",
     "output_type": "stream",
     "text": [
      "\r",
      "converting images:  79%|███████▉  | 2123/2689 [00:49<00:17, 32.57it/s]"
     ]
    },
    {
     "name": "stderr",
     "output_type": "stream",
     "text": [
      "\r",
      "converting images:  79%|███████▉  | 2128/2689 [00:49<00:16, 34.43it/s]"
     ]
    },
    {
     "name": "stderr",
     "output_type": "stream",
     "text": [
      "\r",
      "converting images:  79%|███████▉  | 2132/2689 [00:49<00:15, 35.62it/s]"
     ]
    },
    {
     "name": "stderr",
     "output_type": "stream",
     "text": [
      "\r",
      "converting images:  79%|███████▉  | 2136/2689 [00:50<00:16, 33.40it/s]"
     ]
    },
    {
     "name": "stderr",
     "output_type": "stream",
     "text": [
      "\r",
      "converting images:  80%|███████▉  | 2140/2689 [00:50<00:15, 34.67it/s]"
     ]
    },
    {
     "name": "stderr",
     "output_type": "stream",
     "text": [
      "\r",
      "converting images:  80%|███████▉  | 2144/2689 [00:50<00:21, 25.81it/s]"
     ]
    },
    {
     "name": "stderr",
     "output_type": "stream",
     "text": [
      "\r",
      "converting images:  80%|███████▉  | 2151/2689 [00:50<00:16, 33.05it/s]"
     ]
    },
    {
     "name": "stderr",
     "output_type": "stream",
     "text": [
      "\r",
      "converting images:  80%|████████  | 2155/2689 [00:50<00:17, 30.98it/s]"
     ]
    },
    {
     "name": "stderr",
     "output_type": "stream",
     "text": [
      "\r",
      "converting images:  80%|████████  | 2160/2689 [00:50<00:15, 35.14it/s]"
     ]
    },
    {
     "name": "stderr",
     "output_type": "stream",
     "text": [
      "\r",
      "converting images:  80%|████████  | 2164/2689 [00:50<00:14, 35.93it/s]"
     ]
    },
    {
     "name": "stderr",
     "output_type": "stream",
     "text": [
      "\r",
      "converting images:  81%|████████  | 2168/2689 [00:51<00:14, 35.40it/s]"
     ]
    },
    {
     "name": "stderr",
     "output_type": "stream",
     "text": [
      "\r",
      "converting images:  81%|████████  | 2173/2689 [00:51<00:15, 32.57it/s]"
     ]
    },
    {
     "name": "stderr",
     "output_type": "stream",
     "text": [
      "\r",
      "converting images:  81%|████████  | 2177/2689 [00:51<00:15, 33.21it/s]"
     ]
    },
    {
     "name": "stderr",
     "output_type": "stream",
     "text": [
      "\r",
      "converting images:  81%|████████  | 2184/2689 [00:51<00:12, 41.81it/s]"
     ]
    },
    {
     "name": "stderr",
     "output_type": "stream",
     "text": [
      "\r",
      "converting images:  81%|████████▏ | 2189/2689 [00:51<00:13, 36.48it/s]"
     ]
    },
    {
     "name": "stderr",
     "output_type": "stream",
     "text": [
      "\r",
      "converting images:  82%|████████▏ | 2194/2689 [00:51<00:15, 31.59it/s]"
     ]
    },
    {
     "name": "stderr",
     "output_type": "stream",
     "text": [
      "\r",
      "converting images:  82%|████████▏ | 2198/2689 [00:51<00:14, 32.96it/s]"
     ]
    },
    {
     "name": "stderr",
     "output_type": "stream",
     "text": [
      "\r",
      "converting images:  82%|████████▏ | 2202/2689 [00:52<00:14, 32.49it/s]"
     ]
    },
    {
     "name": "stderr",
     "output_type": "stream",
     "text": [
      "\r",
      "converting images:  82%|████████▏ | 2208/2689 [00:52<00:14, 33.03it/s]"
     ]
    },
    {
     "name": "stderr",
     "output_type": "stream",
     "text": [
      "\r",
      "converting images:  82%|████████▏ | 2212/2689 [00:52<00:16, 28.18it/s]"
     ]
    },
    {
     "name": "stderr",
     "output_type": "stream",
     "text": [
      "\r",
      "converting images:  82%|████████▏ | 2216/2689 [00:52<00:15, 30.39it/s]"
     ]
    },
    {
     "name": "stderr",
     "output_type": "stream",
     "text": [
      "\r",
      "converting images:  83%|████████▎ | 2226/2689 [00:52<00:10, 42.48it/s]"
     ]
    },
    {
     "name": "stderr",
     "output_type": "stream",
     "text": [
      "\r",
      "converting images:  83%|████████▎ | 2231/2689 [00:52<00:12, 38.16it/s]"
     ]
    },
    {
     "name": "stderr",
     "output_type": "stream",
     "text": [
      "\r",
      "converting images:  83%|████████▎ | 2236/2689 [00:53<00:13, 34.08it/s]"
     ]
    },
    {
     "name": "stderr",
     "output_type": "stream",
     "text": [
      "\r",
      "converting images:  83%|████████▎ | 2241/2689 [00:53<00:12, 37.22it/s]"
     ]
    },
    {
     "name": "stderr",
     "output_type": "stream",
     "text": [
      "\r",
      "converting images:  83%|████████▎ | 2245/2689 [00:53<00:12, 36.58it/s]"
     ]
    },
    {
     "name": "stderr",
     "output_type": "stream",
     "text": [
      "\r",
      "converting images:  84%|████████▎ | 2249/2689 [00:53<00:16, 26.62it/s]"
     ]
    },
    {
     "name": "stderr",
     "output_type": "stream",
     "text": [
      "\r",
      "converting images:  84%|████████▍ | 2253/2689 [00:53<00:16, 26.19it/s]"
     ]
    },
    {
     "name": "stderr",
     "output_type": "stream",
     "text": [
      "\r",
      "converting images:  84%|████████▍ | 2257/2689 [00:53<00:16, 26.17it/s]"
     ]
    },
    {
     "name": "stderr",
     "output_type": "stream",
     "text": [
      "\r",
      "converting images:  84%|████████▍ | 2262/2689 [00:54<00:15, 27.18it/s]"
     ]
    },
    {
     "name": "stderr",
     "output_type": "stream",
     "text": [
      "\r",
      "converting images:  84%|████████▍ | 2269/2689 [00:54<00:12, 33.63it/s]"
     ]
    },
    {
     "name": "stderr",
     "output_type": "stream",
     "text": [
      "\r",
      "converting images:  85%|████████▍ | 2275/2689 [00:54<00:10, 38.35it/s]"
     ]
    },
    {
     "name": "stderr",
     "output_type": "stream",
     "text": [
      "\r",
      "converting images:  85%|████████▍ | 2280/2689 [00:54<00:12, 32.42it/s]"
     ]
    },
    {
     "name": "stderr",
     "output_type": "stream",
     "text": [
      "\r",
      "converting images:  85%|████████▍ | 2284/2689 [00:54<00:12, 32.06it/s]"
     ]
    },
    {
     "name": "stderr",
     "output_type": "stream",
     "text": [
      "\r",
      "converting images:  85%|████████▌ | 2289/2689 [00:54<00:12, 32.07it/s]"
     ]
    },
    {
     "name": "stderr",
     "output_type": "stream",
     "text": [
      "\r",
      "converting images:  85%|████████▌ | 2293/2689 [00:54<00:11, 33.61it/s]"
     ]
    },
    {
     "name": "stderr",
     "output_type": "stream",
     "text": [
      "\r",
      "converting images:  85%|████████▌ | 2297/2689 [00:54<00:11, 33.60it/s]"
     ]
    },
    {
     "name": "stderr",
     "output_type": "stream",
     "text": [
      "\r",
      "converting images:  86%|████████▌ | 2301/2689 [00:55<00:12, 32.01it/s]"
     ]
    },
    {
     "name": "stderr",
     "output_type": "stream",
     "text": [
      "\r",
      "converting images:  86%|████████▌ | 2307/2689 [00:55<00:10, 37.94it/s]"
     ]
    },
    {
     "name": "stderr",
     "output_type": "stream",
     "text": [
      "\r",
      "converting images:  86%|████████▌ | 2311/2689 [00:55<00:14, 25.34it/s]"
     ]
    },
    {
     "name": "stderr",
     "output_type": "stream",
     "text": [
      "\r",
      "converting images:  86%|████████▌ | 2315/2689 [00:55<00:14, 25.95it/s]"
     ]
    },
    {
     "name": "stderr",
     "output_type": "stream",
     "text": [
      "\r",
      "converting images:  86%|████████▌ | 2319/2689 [00:55<00:16, 22.65it/s]"
     ]
    },
    {
     "name": "stderr",
     "output_type": "stream",
     "text": [
      "\r",
      "converting images:  86%|████████▋ | 2325/2689 [00:56<00:12, 28.82it/s]"
     ]
    },
    {
     "name": "stderr",
     "output_type": "stream",
     "text": [
      "\r",
      "converting images:  87%|████████▋ | 2329/2689 [00:56<00:12, 28.89it/s]"
     ]
    },
    {
     "name": "stderr",
     "output_type": "stream",
     "text": [
      "\r",
      "converting images:  87%|████████▋ | 2333/2689 [00:56<00:12, 28.66it/s]"
     ]
    },
    {
     "name": "stderr",
     "output_type": "stream",
     "text": [
      "\r",
      "converting images:  87%|████████▋ | 2337/2689 [00:56<00:11, 29.96it/s]"
     ]
    },
    {
     "name": "stderr",
     "output_type": "stream",
     "text": [
      "\r",
      "converting images:  87%|████████▋ | 2341/2689 [00:56<00:12, 27.65it/s]"
     ]
    },
    {
     "name": "stderr",
     "output_type": "stream",
     "text": [
      "\r",
      "converting images:  87%|████████▋ | 2345/2689 [00:56<00:12, 28.17it/s]"
     ]
    },
    {
     "name": "stderr",
     "output_type": "stream",
     "text": [
      "\r",
      "converting images:  87%|████████▋ | 2349/2689 [00:56<00:11, 30.16it/s]"
     ]
    },
    {
     "name": "stderr",
     "output_type": "stream",
     "text": [
      "\r",
      "converting images:  88%|████████▊ | 2354/2689 [00:56<00:10, 30.87it/s]"
     ]
    },
    {
     "name": "stderr",
     "output_type": "stream",
     "text": [
      "\r",
      "converting images:  88%|████████▊ | 2358/2689 [00:57<00:10, 30.53it/s]"
     ]
    },
    {
     "name": "stderr",
     "output_type": "stream",
     "text": [
      "\r",
      "converting images:  88%|████████▊ | 2365/2689 [00:57<00:08, 39.22it/s]"
     ]
    },
    {
     "name": "stderr",
     "output_type": "stream",
     "text": [
      "\r",
      "converting images:  88%|████████▊ | 2370/2689 [00:57<00:09, 34.64it/s]"
     ]
    },
    {
     "name": "stderr",
     "output_type": "stream",
     "text": [
      "\r",
      "converting images:  88%|████████▊ | 2374/2689 [00:57<00:10, 30.89it/s]"
     ]
    },
    {
     "name": "stderr",
     "output_type": "stream",
     "text": [
      "\r",
      "converting images:  89%|████████▊ | 2383/2689 [00:57<00:07, 40.73it/s]"
     ]
    },
    {
     "name": "stderr",
     "output_type": "stream",
     "text": [
      "\r",
      "converting images:  89%|████████▉ | 2390/2689 [00:57<00:06, 45.69it/s]"
     ]
    },
    {
     "name": "stderr",
     "output_type": "stream",
     "text": [
      "\r",
      "converting images:  89%|████████▉ | 2397/2689 [00:57<00:06, 46.95it/s]"
     ]
    },
    {
     "name": "stderr",
     "output_type": "stream",
     "text": [
      "\r",
      "converting images:  89%|████████▉ | 2402/2689 [00:58<00:09, 29.83it/s]"
     ]
    },
    {
     "name": "stderr",
     "output_type": "stream",
     "text": [
      "\r",
      "converting images:  90%|████████▉ | 2407/2689 [00:58<00:09, 30.45it/s]"
     ]
    },
    {
     "name": "stderr",
     "output_type": "stream",
     "text": [
      "\r",
      "converting images:  90%|████████▉ | 2411/2689 [00:58<00:08, 31.89it/s]"
     ]
    },
    {
     "name": "stderr",
     "output_type": "stream",
     "text": [
      "\r",
      "converting images:  90%|████████▉ | 2416/2689 [00:58<00:08, 33.06it/s]"
     ]
    },
    {
     "name": "stderr",
     "output_type": "stream",
     "text": [
      "\r",
      "converting images:  90%|████████▉ | 2420/2689 [00:58<00:08, 33.54it/s]"
     ]
    },
    {
     "name": "stderr",
     "output_type": "stream",
     "text": [
      "\r",
      "converting images:  90%|█████████ | 2424/2689 [00:59<00:09, 26.65it/s]"
     ]
    },
    {
     "name": "stderr",
     "output_type": "stream",
     "text": [
      "\r",
      "converting images:  90%|█████████ | 2428/2689 [00:59<00:10, 24.03it/s]"
     ]
    },
    {
     "name": "stderr",
     "output_type": "stream",
     "text": [
      "\r",
      "converting images:  90%|█████████ | 2432/2689 [00:59<00:10, 24.07it/s]"
     ]
    },
    {
     "name": "stderr",
     "output_type": "stream",
     "text": [
      "\r",
      "converting images:  91%|█████████ | 2436/2689 [00:59<00:09, 26.16it/s]"
     ]
    },
    {
     "name": "stderr",
     "output_type": "stream",
     "text": [
      "\r",
      "converting images:  91%|█████████ | 2439/2689 [00:59<00:09, 25.87it/s]"
     ]
    },
    {
     "name": "stderr",
     "output_type": "stream",
     "text": [
      "\r",
      "converting images:  91%|█████████ | 2442/2689 [00:59<00:09, 26.65it/s]"
     ]
    },
    {
     "name": "stderr",
     "output_type": "stream",
     "text": [
      "\r",
      "converting images:  91%|█████████ | 2448/2689 [00:59<00:06, 34.59it/s]"
     ]
    },
    {
     "name": "stderr",
     "output_type": "stream",
     "text": [
      "\r",
      "converting images:  91%|█████████ | 2452/2689 [01:00<00:07, 30.45it/s]"
     ]
    },
    {
     "name": "stderr",
     "output_type": "stream",
     "text": [
      "\r",
      "converting images:  91%|█████████▏| 2456/2689 [01:00<00:07, 29.17it/s]"
     ]
    },
    {
     "name": "stderr",
     "output_type": "stream",
     "text": [
      "\r",
      "converting images:  91%|█████████▏| 2460/2689 [01:00<00:07, 31.49it/s]"
     ]
    },
    {
     "name": "stderr",
     "output_type": "stream",
     "text": [
      "\r",
      "converting images:  92%|█████████▏| 2466/2689 [01:00<00:06, 35.38it/s]"
     ]
    },
    {
     "name": "stderr",
     "output_type": "stream",
     "text": [
      "\r",
      "converting images:  92%|█████████▏| 2472/2689 [01:00<00:05, 36.79it/s]"
     ]
    },
    {
     "name": "stderr",
     "output_type": "stream",
     "text": [
      "\r",
      "converting images:  92%|█████████▏| 2478/2689 [01:00<00:05, 40.86it/s]"
     ]
    },
    {
     "name": "stderr",
     "output_type": "stream",
     "text": [
      "\r",
      "converting images:  92%|█████████▏| 2483/2689 [01:00<00:05, 38.01it/s]"
     ]
    },
    {
     "name": "stderr",
     "output_type": "stream",
     "text": [
      "\r",
      "converting images:  93%|█████████▎| 2488/2689 [01:01<00:05, 37.44it/s]"
     ]
    },
    {
     "name": "stderr",
     "output_type": "stream",
     "text": [
      "\r",
      "converting images:  93%|█████████▎| 2493/2689 [01:01<00:04, 40.39it/s]"
     ]
    },
    {
     "name": "stderr",
     "output_type": "stream",
     "text": [
      "\r",
      "converting images:  93%|█████████▎| 2499/2689 [01:01<00:05, 36.35it/s]"
     ]
    },
    {
     "name": "stderr",
     "output_type": "stream",
     "text": [
      "\r",
      "converting images:  93%|█████████▎| 2508/2689 [01:01<00:04, 38.09it/s]"
     ]
    },
    {
     "name": "stderr",
     "output_type": "stream",
     "text": [
      "\r",
      "converting images:  93%|█████████▎| 2512/2689 [01:01<00:06, 27.99it/s]"
     ]
    },
    {
     "name": "stderr",
     "output_type": "stream",
     "text": [
      "\r",
      "converting images:  94%|█████████▎| 2519/2689 [01:01<00:05, 33.00it/s]"
     ]
    },
    {
     "name": "stderr",
     "output_type": "stream",
     "text": [
      "\r",
      "converting images:  94%|█████████▍| 2523/2689 [01:02<00:06, 24.05it/s]"
     ]
    },
    {
     "name": "stderr",
     "output_type": "stream",
     "text": [
      "\r",
      "converting images:  94%|█████████▍| 2530/2689 [01:02<00:05, 30.70it/s]"
     ]
    },
    {
     "name": "stderr",
     "output_type": "stream",
     "text": [
      "\r",
      "converting images:  94%|█████████▍| 2534/2689 [01:02<00:06, 24.99it/s]"
     ]
    },
    {
     "name": "stderr",
     "output_type": "stream",
     "text": [
      "\r",
      "converting images:  94%|█████████▍| 2538/2689 [01:02<00:06, 24.83it/s]"
     ]
    },
    {
     "name": "stderr",
     "output_type": "stream",
     "text": [
      "\r",
      "converting images:  95%|█████████▍| 2545/2689 [01:02<00:04, 30.59it/s]"
     ]
    },
    {
     "name": "stderr",
     "output_type": "stream",
     "text": [
      "\r",
      "converting images:  95%|█████████▍| 2549/2689 [01:03<00:04, 30.81it/s]"
     ]
    },
    {
     "name": "stderr",
     "output_type": "stream",
     "text": [
      "\r",
      "converting images:  95%|█████████▍| 2553/2689 [01:03<00:04, 27.24it/s]"
     ]
    },
    {
     "name": "stderr",
     "output_type": "stream",
     "text": [
      "\r",
      "converting images:  95%|█████████▌| 2559/2689 [01:03<00:04, 31.01it/s]"
     ]
    },
    {
     "name": "stderr",
     "output_type": "stream",
     "text": [
      "\r",
      "converting images:  95%|█████████▌| 2563/2689 [01:03<00:04, 28.58it/s]"
     ]
    },
    {
     "name": "stderr",
     "output_type": "stream",
     "text": [
      "\r",
      "converting images:  96%|█████████▌| 2569/2689 [01:03<00:03, 33.19it/s]"
     ]
    },
    {
     "name": "stderr",
     "output_type": "stream",
     "text": [
      "\r",
      "converting images:  96%|█████████▌| 2573/2689 [01:03<00:03, 32.78it/s]"
     ]
    },
    {
     "name": "stderr",
     "output_type": "stream",
     "text": [
      "\r",
      "converting images:  96%|█████████▌| 2577/2689 [01:04<00:03, 31.58it/s]"
     ]
    },
    {
     "name": "stderr",
     "output_type": "stream",
     "text": [
      "\r",
      "converting images:  96%|█████████▌| 2584/2689 [01:04<00:02, 39.44it/s]"
     ]
    },
    {
     "name": "stderr",
     "output_type": "stream",
     "text": [
      "\r",
      "converting images:  96%|█████████▋| 2589/2689 [01:04<00:03, 30.61it/s]"
     ]
    },
    {
     "name": "stderr",
     "output_type": "stream",
     "text": [
      "\r",
      "converting images:  97%|█████████▋| 2595/2689 [01:04<00:02, 33.92it/s]"
     ]
    },
    {
     "name": "stderr",
     "output_type": "stream",
     "text": [
      "\r",
      "converting images:  97%|█████████▋| 2600/2689 [01:04<00:02, 36.67it/s]"
     ]
    },
    {
     "name": "stderr",
     "output_type": "stream",
     "text": [
      "\r",
      "converting images:  97%|█████████▋| 2605/2689 [01:04<00:03, 27.76it/s]"
     ]
    },
    {
     "name": "stderr",
     "output_type": "stream",
     "text": [
      "\r",
      "converting images:  97%|█████████▋| 2609/2689 [01:05<00:03, 24.82it/s]"
     ]
    },
    {
     "name": "stderr",
     "output_type": "stream",
     "text": [
      "\r",
      "converting images:  97%|█████████▋| 2613/2689 [01:05<00:02, 27.45it/s]"
     ]
    },
    {
     "name": "stderr",
     "output_type": "stream",
     "text": [
      "\r",
      "converting images:  97%|█████████▋| 2619/2689 [01:05<00:02, 33.98it/s]"
     ]
    },
    {
     "name": "stderr",
     "output_type": "stream",
     "text": [
      "\r",
      "converting images:  98%|█████████▊| 2624/2689 [01:05<00:01, 34.67it/s]"
     ]
    },
    {
     "name": "stderr",
     "output_type": "stream",
     "text": [
      "\r",
      "converting images:  98%|█████████▊| 2630/2689 [01:05<00:01, 39.53it/s]"
     ]
    },
    {
     "name": "stderr",
     "output_type": "stream",
     "text": [
      "\r",
      "converting images:  98%|█████████▊| 2636/2689 [01:05<00:01, 41.20it/s]"
     ]
    },
    {
     "name": "stderr",
     "output_type": "stream",
     "text": [
      "\r",
      "converting images:  98%|█████████▊| 2641/2689 [01:05<00:01, 40.00it/s]"
     ]
    },
    {
     "name": "stderr",
     "output_type": "stream",
     "text": [
      "\r",
      "converting images:  98%|█████████▊| 2646/2689 [01:05<00:01, 41.87it/s]"
     ]
    },
    {
     "name": "stderr",
     "output_type": "stream",
     "text": [
      "\r",
      "converting images:  99%|█████████▊| 2653/2689 [01:06<00:00, 48.88it/s]"
     ]
    },
    {
     "name": "stderr",
     "output_type": "stream",
     "text": [
      "\r",
      "converting images:  99%|█████████▉| 2659/2689 [01:06<00:00, 49.85it/s]"
     ]
    },
    {
     "name": "stderr",
     "output_type": "stream",
     "text": [
      "\r",
      "converting images:  99%|█████████▉| 2667/2689 [01:06<00:00, 57.32it/s]"
     ]
    },
    {
     "name": "stderr",
     "output_type": "stream",
     "text": [
      "\r",
      "converting images:  99%|█████████▉| 2674/2689 [01:06<00:00, 59.55it/s]"
     ]
    },
    {
     "name": "stderr",
     "output_type": "stream",
     "text": [
      "\r",
      "converting images: 100%|█████████▉| 2681/2689 [01:06<00:00, 52.59it/s]"
     ]
    },
    {
     "name": "stderr",
     "output_type": "stream",
     "text": [
      "\r",
      "converting images: 100%|█████████▉| 2687/2689 [01:06<00:00, 33.73it/s]"
     ]
    },
    {
     "name": "stderr",
     "output_type": "stream",
     "text": [
      "\r",
      "converting images: 100%|██████████| 2689/2689 [01:07<00:00, 39.96it/s]"
     ]
    },
    {
     "name": "stderr",
     "output_type": "stream",
     "text": [
      "\n"
     ]
    },
    {
     "name": "stdout",
     "output_type": "stream",
     "text": [
      "0\n"
     ]
    }
   ],
   "source": [
    "import os\n",
    "import multiprocessing as mp\n",
    "from tqdm.auto import tqdm\n",
    "\n",
    "base_dir = \"\"\n",
    "cardinality = 999999999999 \n",
    "\n",
    "def load_and_save(row):\n",
    "    global base_dir\n",
    "    index, row = row\n",
    "    lats = {}\n",
    "    for view in [\"CC\", \"MLO\"]:\n",
    "        filename = os.path.join(base_dir, f\"{row['pair_id']}-{view}.png\")\n",
    "        if os.path.exists(filename):\n",
    "            lats[view] = \"\"\n",
    "            continue\n",
    "        zipfile_path = row[f'zip_file_{view}']\n",
    "        image_path = row[f'image_path_{view}']\n",
    "        img_data, lat = load_dicom_from_zip(image_path, zipfile_path, return_laterality=True)\n",
    "        cv2.imwrite(filename, img_data)\n",
    "        lats[view] = lat\n",
    "    if not lats['CC'] == lats['MLO']:\n",
    "        return index+1\n",
    "    return 0\n",
    "\n",
    "def convert_dicoms_to_pngs(folder_name, kfold_ds):\n",
    "    global base_dir\n",
    "    base_dir = f'/kaggle/working/{folder_name}'\n",
    "    print(\"saving PNG images to\", base_dir)\n",
    "    os.makedirs(base_dir, exist_ok=True)\n",
    "    # start process\n",
    "    with mp.Pool(mp.cpu_count()) as p:\n",
    "        iterrows = list(kfold_ds.iterrows())[:cardinality]\n",
    "        image_generator = tqdm(\n",
    "            p.imap_unordered(load_and_save, iterrows),\n",
    "            total=len(iterrows),\n",
    "            desc=\"converting images\"\n",
    "        )\n",
    "        r = list(image_generator)\n",
    "        sumr = sum(r)\n",
    "        print(sum(r))\n",
    "        if sumr > 0:\n",
    "            for idx in r:\n",
    "                if idx > 0:\n",
    "                    print(idx-1)\n",
    "\n",
    "print(\"creating images dataset\".center(50, \".\"))\n",
    "convert_dicoms_to_pngs(\"images\", ds)"
   ]
  },
  {
   "cell_type": "code",
   "execution_count": 12,
   "id": "e06a1cc3",
   "metadata": {
    "execution": {
     "iopub.execute_input": "2024-07-10T08:26:35.638008Z",
     "iopub.status.busy": "2024-07-10T08:26:35.637605Z",
     "iopub.status.idle": "2024-07-10T08:26:43.226260Z",
     "shell.execute_reply": "2024-07-10T08:26:43.225075Z"
    },
    "papermill": {
     "duration": 7.62538,
     "end_time": "2024-07-10T08:26:43.228432",
     "exception": false,
     "start_time": "2024-07-10T08:26:35.603052",
     "status": "completed"
    },
    "tags": []
   },
   "outputs": [
    {
     "name": "stdout",
     "output_type": "stream",
     "text": [
      "example_dicom/\r\n",
      "example_dicom/birads_3_example_CC.dicom\r\n"
     ]
    },
    {
     "name": "stdout",
     "output_type": "stream",
     "text": [
      "example_dicom/birads_1_example_CC.dicom\r\n"
     ]
    },
    {
     "name": "stdout",
     "output_type": "stream",
     "text": [
      "example_dicom/birads_4_example_CC.dicom\r\n"
     ]
    },
    {
     "name": "stdout",
     "output_type": "stream",
     "text": [
      "example_dicom/birads_4_example_MLO.dicom\r\n"
     ]
    },
    {
     "name": "stdout",
     "output_type": "stream",
     "text": [
      "example_dicom/birads_5_example_CC.dicom\r\n"
     ]
    },
    {
     "name": "stdout",
     "output_type": "stream",
     "text": [
      "example_dicom/birads_3_example_MLO.dicom\r\n"
     ]
    },
    {
     "name": "stdout",
     "output_type": "stream",
     "text": [
      "example_dicom/birads_2_example_CC.dicom\r\n"
     ]
    },
    {
     "name": "stdout",
     "output_type": "stream",
     "text": [
      "example_dicom/birads_1_example_MLO.dicom\r\n"
     ]
    },
    {
     "name": "stdout",
     "output_type": "stream",
     "text": [
      "example_dicom/birads_2_example_MLO.dicom\r\n"
     ]
    },
    {
     "name": "stdout",
     "output_type": "stream",
     "text": [
      "example_dicom/birads_5_example_MLO.dicom\r\n"
     ]
    }
   ],
   "source": [
    "import os\n",
    "import zipfile\n",
    "\n",
    "base_dir = 'example_dicom'\n",
    "!rm -rf {base_dir}\n",
    "os.makedirs(base_dir, exist_ok=True)\n",
    "\n",
    "def save_dicom(image_path, zipfile_path, save_filename):\n",
    "    with zipfile.ZipFile(zipfile_path, \"r\") as zip_ref:\n",
    "        with zip_ref.open(image_path) as f:\n",
    "            image_bytes = f.read()\n",
    "    with open(save_filename, \"wb\") as f:\n",
    "        f.write(image_bytes)\n",
    "    \n",
    "n_data_to_save = 1\n",
    "df_list = []\n",
    "for key in index_label:\n",
    "    if key == 0.0:\n",
    "        continue\n",
    "    biradn = ds.loc[ds.BI_RADS_MAX == key].sample(n_data_to_save)\n",
    "    df_list.append(biradn)\n",
    "\n",
    "sample_df = pd.concat(df_list, ignore_index=True)\n",
    "for _, row in sample_df.iterrows():\n",
    "    label = int(row['BI_RADS_MAX'])\n",
    "    for view in [\"CC\", \"MLO\"]:\n",
    "        save_filename = os.path.join(base_dir, f\"birads_{label}_example_{view}.dicom\")\n",
    "        if os.path.exists(save_filename):\n",
    "            continue\n",
    "        zipfile_path = row[f'zip_file_{view}']\n",
    "        image_path = row[f'image_path_{view}']\n",
    "        save_dicom(image_path, zipfile_path, save_filename)\n",
    "        \n",
    "!tar -zcvf example_dicom_tar_gz {base_dir} && rm -rf {base_dir}"
   ]
  },
  {
   "cell_type": "code",
   "execution_count": 13,
   "id": "fdb5072a",
   "metadata": {
    "execution": {
     "iopub.execute_input": "2024-07-10T08:26:43.297904Z",
     "iopub.status.busy": "2024-07-10T08:26:43.297464Z",
     "iopub.status.idle": "2024-07-10T08:26:43.303909Z",
     "shell.execute_reply": "2024-07-10T08:26:43.303148Z"
    },
    "papermill": {
     "duration": 0.043327,
     "end_time": "2024-07-10T08:26:43.305696",
     "exception": false,
     "start_time": "2024-07-10T08:26:43.262369",
     "status": "completed"
    },
    "tags": []
   },
   "outputs": [],
   "source": [
    "# import cv2\n",
    "# import numpy as np\n",
    "# import tensorflow as tf\n",
    "\n",
    "# print(tf.__version__)\n",
    "\n",
    "# im = cv2.imread(\"/kaggle/working/images/a235482f737d9a3baa8313c8f4db16d6_L-MLO.png\")\n",
    "# im = cv2.resize(im, (1024, 1024))\n",
    "# # im = cv2.flip(im, 1)\n",
    "\n",
    "# # interpreter = tf.lite.Interpreter(\"/kaggle/input/mammo-roi-detector/tflite/yolov5/1/best-fp16.tflite\")\n",
    "# # interpreter.allocate_tensors()\n",
    "# # inputs = interpreter.get_input_details()[0]\n",
    "# # output = interpreter.get_output_details()[0]\n",
    "# # interpreter.set_tensor(inputs[\"index\"], np.expand_dims(im, 0).astype(\"float32\"))\n",
    "# # interpreter.invoke()\n",
    "# # o = interpreter.get_tensor(output[\"index\"])\n",
    "# # index, total_boxes = tf.image.non_max_suppression_padded(\n",
    "# #     o[...,:4],\n",
    "# #     o[...,4],\n",
    "# #     1,\n",
    "# #     iou_threshold=0.5,\n",
    "# #     score_threshold=0.5,\n",
    "# #     pad_to_max_output_size=True,\n",
    "# # )\n",
    "# # print(o[0, index[0]])\n",
    "\n",
    "# import cv2\n",
    "\n",
    "# def get_bbox_absolute_pixel(bbox, image_shape):\n",
    "#     if not len(image_shape) == 3:\n",
    "#         raise NotImplementedError(\"this function expect image shape with len == 3\")\n",
    "#     h, w, _ = image_shape\n",
    "#     bbox = np.array(bbox)\n",
    "#     if not len(bbox.shape) == 1:\n",
    "#         raise NotImplementedError(\"this function expect bbox shape with len == 1\")\n",
    "#     bbox[[0,2]]*=w\n",
    "#     bbox[[1,3]]*=h\n",
    "#     bbox = bbox.astype(int)\n",
    "#     return bbox\n",
    "\n",
    "# def xywh2xyxy(bbox):\n",
    "#     x0, y0, w, h = bbox\n",
    "#     x1 = x0 + w\n",
    "#     y1 = y0 + h\n",
    "#     return x0, y0, x1, y1\n",
    "\n",
    "# # bbox = get_bbox_absolute_pixel(o[0, index[0], :4][0], im.shape)\n",
    "# # bbox = xywh2xyxy(bbox)\n",
    "# bbox = np.array(crop_coords(np.mean(im, axis=-1)))\n",
    "# bbox = xywh2xyxy(bbox)\n",
    "# print(bbox)\n",
    "# x_min, y_min, x_max, y_max = bbox\n",
    "# img = cv2.rectangle(im.astype(\"uint8\"), (x_min, y_min), (x_max, y_max), (255, 0, 0), 5)\n",
    "# # img = im[y_min:y_max,x_min:x_max]\n",
    "\n",
    "# sum_L = np.sum(img[:, :20])\n",
    "# sum_R = np.sum(img[:, -20:])\n",
    "# laterality = 'L' if sum_L > sum_R else 'R'\n",
    "# print(laterality)\n",
    "# plt.imshow(img)"
   ]
  },
  {
   "cell_type": "code",
   "execution_count": 14,
   "id": "d5256617",
   "metadata": {
    "execution": {
     "iopub.execute_input": "2024-07-10T08:26:43.374137Z",
     "iopub.status.busy": "2024-07-10T08:26:43.373732Z",
     "iopub.status.idle": "2024-07-10T08:26:43.379313Z",
     "shell.execute_reply": "2024-07-10T08:26:43.378620Z"
    },
    "papermill": {
     "duration": 0.041987,
     "end_time": "2024-07-10T08:26:43.380822",
     "exception": false,
     "start_time": "2024-07-10T08:26:43.338835",
     "status": "completed"
    },
    "tags": []
   },
   "outputs": [],
   "source": [
    "# def get_label(file_path):\n",
    "#     path_parts = tf.strings.split(file_path, os.path.sep)\n",
    "#     filename_parts = tf.strings.split(path_parts[-1], \"_\")\n",
    "#     label = tf.strings.to_number(filename_parts[-3],out_type=tf.dtypes.int32)\n",
    "\n",
    "#     return tf.one_hot(label-1,5)\n",
    "\n",
    "# def decode_img(img):\n",
    "#     img = tf.io.decode_png(img, channels=3)\n",
    "#     # Resize the image to the desired size\n",
    "#     return tf.image.resize(img, (512,288))\n",
    "\n",
    "# def process_image(file_path):\n",
    "#     # Load the raw data from the file as a string\n",
    "#     img = tf.io.read_file(file_path)\n",
    "#     img = decode_img(img)\n",
    "#     return img\n",
    "\n",
    "# splits = ['train', 'valid', 'sisa']\n",
    "# view_map = {\"Examined\":\"CC\", \"Aux\":\"MLO\"}\n",
    "# dict_dataset = { split:[{v:None for v in view_map},[]] for split in splits}\n",
    "# images_dir = '/kaggle/working/images'\n",
    "\n",
    "# #https://www.tensorflow.org/tutorials/load_data/images?hl=en#using_tfdata_for_finer_control\n",
    "# for split in splits:\n",
    "#     for view in view_map:\n",
    "#         dict_dataset[split][0][view] = tf.data.Dataset.list_files(f\"{images_dir}/*_{view_map[view]}_{split}.png\",shuffle=False)\n",
    "# for split in splits:\n",
    "#     for view in view_map:\n",
    "#         ds = dict_dataset[split][0][view]\n",
    "#         print(f'{view}-{split} cardinality :',ds.cardinality().numpy())\n",
    "#         print('examples :')\n",
    "#         for f in ds.take(2):\n",
    "#             print(f.numpy())\n",
    "#         print()\n",
    "        \n",
    "# for split in splits:\n",
    "#     dict_dataset[split][1] = dict_dataset[split][0][view].map(get_label, num_parallel_calls=tf.data.AUTOTUNE)\n",
    "#     for view in view_map:\n",
    "#         dict_dataset[split][0][view] = dict_dataset[split][0][view].map(process_image, num_parallel_calls=tf.data.AUTOTUNE)\n",
    "\n",
    "# for image in dict_dataset['train'][0]['Examined'].take(5):\n",
    "#     print(\"Image shape: \", image.numpy().shape)\n",
    "# for label in  dict_dataset['train'][1].take(5):\n",
    "#     print(\"Label: \", label.numpy())\n",
    "    \n",
    "# print(\"\\nunique labels :\\n\",np.unique(list(dict_dataset['valid'][1].as_numpy_iterator()), axis=0))\n",
    "\n",
    "# train_ds = tf.data.Dataset.zip(tuple(dict_dataset['train']))\n",
    "# validation_ds = tf.data.Dataset.zip(tuple(dict_dataset['valid']))\n",
    "# test_ds = tf.data.Dataset.zip(tuple(dict_dataset['sisa']))\n",
    "\n",
    "\n",
    "# del dict_dataset\n",
    "# train_ds"
   ]
  },
  {
   "cell_type": "code",
   "execution_count": 15,
   "id": "64520a9b",
   "metadata": {
    "execution": {
     "iopub.execute_input": "2024-07-10T08:26:43.448890Z",
     "iopub.status.busy": "2024-07-10T08:26:43.448537Z",
     "iopub.status.idle": "2024-07-10T08:26:43.452829Z",
     "shell.execute_reply": "2024-07-10T08:26:43.452152Z"
    },
    "papermill": {
     "duration": 0.040705,
     "end_time": "2024-07-10T08:26:43.454456",
     "exception": false,
     "start_time": "2024-07-10T08:26:43.413751",
     "status": "completed"
    },
    "tags": []
   },
   "outputs": [],
   "source": [
    "# def _bytes_feature(value):\n",
    "#     \"\"\"Returns a bytes_list from a string / byte.\"\"\"\n",
    "#     if isinstance(value, type(tf.constant(0))):  # if value is tensor\n",
    "#         value = value.numpy()  # get value of tensor\n",
    "#     return tf.train.Feature(bytes_list=tf.train.BytesList(value=[value]))\n",
    "\n",
    "# def serialize_example(image_dict, label):\n",
    "#     feature = {\n",
    "#       'Examined': _bytes_feature(image_dict['Examined'].numpy().tobytes()),\n",
    "#       'Aux': _bytes_feature(image_dict['Aux'].numpy().tobytes()),\n",
    "#       'label': _bytes_feature(label.numpy().tobytes())  # Assuming one-hot encoded\n",
    "#     }\n",
    "#     example_proto = tf.train.Example(features=tf.train.Features(feature=feature))\n",
    "#     return example_proto.SerializeToString()\n",
    "\n",
    "# # Function to write TFRecord file\n",
    "# def write_tfrecord(dataset, output_file):\n",
    "#     with tf.io.TFRecordWriter(output_file) as writer:\n",
    "#         for image_dict, label in dataset:\n",
    "#             example = serialize_example(image_dict, label)\n",
    "#             writer.write(example)\n",
    "\n",
    "# # Create separate TFRecord files for training and validation\n",
    "# write_tfrecord(train_ds, 'train.tfrecord')\n",
    "# write_tfrecord(validation_ds, 'valid.tfrecord')\n",
    "# write_tfrecord(test_ds, 'sisa.tfrecord')"
   ]
  }
 ],
 "metadata": {
  "kaggle": {
   "accelerator": "none",
   "dataSources": [
    {
     "datasetId": 5045473,
     "sourceId": 8463517,
     "sourceType": "datasetVersion"
    }
   ],
   "dockerImageVersionId": 30698,
   "isGpuEnabled": false,
   "isInternetEnabled": true,
   "language": "python",
   "sourceType": "notebook"
  },
  "kernelspec": {
   "display_name": "Python 3",
   "language": "python",
   "name": "python3"
  },
  "language_info": {
   "codemirror_mode": {
    "name": "ipython",
    "version": 3
   },
   "file_extension": ".py",
   "mimetype": "text/x-python",
   "name": "python",
   "nbconvert_exporter": "python",
   "pygments_lexer": "ipython3",
   "version": "3.10.14"
  },
  "papermill": {
   "default_parameters": {},
   "duration": 98.439496,
   "end_time": "2024-07-10T08:26:44.006087",
   "environment_variables": {},
   "exception": null,
   "input_path": "__notebook__.ipynb",
   "output_path": "__notebook__.ipynb",
   "parameters": {},
   "start_time": "2024-07-10T08:25:05.566591",
   "version": "2.5.0"
  }
 },
 "nbformat": 4,
 "nbformat_minor": 5
}
